{
  "nbformat": 4,
  "nbformat_minor": 0,
  "metadata": {
    "kernelspec": {
      "display_name": "Python 3",
      "language": "python",
      "name": "python3"
    },
    "language_info": {
      "codemirror_mode": {
        "name": "ipython",
        "version": 3
      },
      "file_extension": ".py",
      "mimetype": "text/x-python",
      "name": "python",
      "nbconvert_exporter": "python",
      "pygments_lexer": "ipython3",
      "version": "3.6.10"
    },
    "colab": {
      "provenance": [],
      "name": "22.ipynb",
      "include_colab_link": true
    }
  },
  "cells": [
    {
      "cell_type": "markdown",
      "metadata": {
        "id": "view-in-github",
        "colab_type": "text"
      },
      "source": [
        "<a href=\"https://colab.research.google.com/github/hikaru122700/kaggle-pub/blob/GCI-titanic/22.ipynb\" target=\"_parent\"><img src=\"https://colab.research.google.com/assets/colab-badge.svg\" alt=\"Open In Colab\"/></a>"
      ]
    },
    {
      "cell_type": "markdown",
      "metadata": {
        "id": "DFS2GUpqtBBd"
      },
      "source": [
        "# Titanic\n",
        "![](https://i.imgur.com/rRFchA8.png)"
      ]
    },
    {
      "cell_type": "markdown",
      "metadata": {
        "id": "vCeOa2dXtBBe"
      },
      "source": [
        "## 目次\n",
        "0. ライブラリ・データ読み込み\n",
        "1. データの概観・分析・前処理\n",
        "2. ベースラインモデルの構築\n",
        "3. 特徴量エンジニアリング\n",
        "4. 様々なモデルの構築・調整\n",
        "5. モデルのアンサンブリング\n",
        "6. 予測の出力・提出\n",
        "\n",
        "　機械学習を用いたデータ分析では多くの場合、上の目次に示すような工程で問題に取り組みます。ただしこの順番に沿って一方向的に進んでいくのではなく、前後の工程を行ったり来たりしながら作業は進んでいきます。このような工程に関しては、Mark Peng氏による\"General Tips for participating Kaggle Competitions\"という講演資料で示されたフローチャート（下図）がわかりやすいです。またKaggleそのものについての解説は、Sergey Yurgenson氏による\"Kaggle and Data Science\"がわかりやすいでしょう。\n",
        "\n",
        "\"General Tips for participating Kaggle Competitions\" : https://www.slideshare.net/markpeng/general-tips-for-participating-kaggle-competitions\n",
        "\n",
        "\"Kaggle and Data Science\" : https://www.slideshare.net/hijiki_s/kaggle-and-data-science\n",
        "\n",
        "![](https://image.slidesharecdn.com/kagglesharingmarkpeng20151216finalpresented-151216161621/95/general-tips-for-participating-kaggle-competitions-6-638.jpg?cb=1452565877)"
      ]
    },
    {
      "cell_type": "markdown",
      "metadata": {
        "id": "Kdep7AbutBBf"
      },
      "source": [
        "## 0. ライブラリ・データ読み込み  \n",
        "　まず初めに使用するライブラリを読み込みます。"
      ]
    },
    {
      "cell_type": "code",
      "metadata": {
        "id": "jJgqgtH0AxIi"
      },
      "source": [
        "# このセルを実行したあとどうすればいいかがわからない方は、別途配布している、「GoogleColabにおけるドライブのマウントの仕方」と、Google Drive上でのフォルダ構造の説明のpdfファイルをご覧ください。\n",
        "\n",
        "from google.colab import drive\n",
        "drive.mount('/content/drive')"
      ],
      "execution_count": null,
      "outputs": []
    },
    {
      "cell_type": "code",
      "source": [
        "!pip install optuna==2.0"
      ],
      "metadata": {
        "id": "f4DqvkVJ-Z6X"
      },
      "execution_count": null,
      "outputs": []
    },
    {
      "cell_type": "code",
      "metadata": {
        "id": "Iu6aiGurtBBg"
      },
      "source": [
        "import numpy as np\n",
        "import pandas as pd\n",
        "from pandas import DataFrame, Series\n",
        "import matplotlib.pyplot as plt\n",
        "import seaborn as sns\n",
        "from sklearn.neighbors import KNeighborsClassifier\n",
        "from sklearn.model_selection import train_test_split, GridSearchCV\n",
        "from sklearn.ensemble import RandomForestClassifier, GradientBoostingClassifier\n",
        "from sklearn.linear_model import LogisticRegression\n",
        "from sklearn.neural_network import MLPClassifier\n",
        "import lightgbm as lgb\n",
        "import warnings\n",
        "warnings.filterwarnings('ignore')\n",
        "from sklearn.model_selection import KFold\n",
        "import optuna"
      ],
      "execution_count": null,
      "outputs": []
    },
    {
      "cell_type": "markdown",
      "metadata": {
        "id": "zGKCcHTZtBBk"
      },
      "source": [
        "　次にpandasのread_csv関数を用いて、分析する訓練データ**train.csv**とテストデータ**test.csv**を読み込みます。  \n",
        "　変数名に与えた**df**は、**DataFrame**を意味しています（変数名は何でも構いません）。テストデータは素直にdf_testと命名したのに対して訓練データはdfとだけ命名したのは、後に説明するホールドアウト法やクロスバリデーションにおいて、さらにdfを擬似的な訓練データdf_trainと擬似的なテストデータdf_validに分割することを見越してのものです。\\\n",
        "※ファイルの読み込み方法は自身の作業場所によって変わります。このnotebookをコピーして用いる場合はそのまま実行することができますが、自分の環境に合わせて適切な形に修正する必要が生じる場合もあります。"
      ]
    },
    {
      "cell_type": "code",
      "metadata": {
        "id": "5TL_v4iTtBBl"
      },
      "source": [
        "# 読み込むデータが格納されたディレクトリのパス，必要に応じて変更の必要あり\n",
        "# データの読み込み方がわからない方は、別途配布している、GoogleColabにおけるドライブのマウントの仕方、と、Google Drive上でのフォルダ構造の説明のpdfファイルをご覧ください。\n",
        "path = \"/content/drive/My Drive/松尾研/GCI/コンペ１/\"\n",
        "# path = \"/content/drive/My Drive/kaggle/titanic/titanic_data/\"\n",
        "\n",
        "df = pd.read_csv(path + 'train.csv')\n",
        "df_test = pd.read_csv(path + 'test.csv')\n",
        "if path == \"/content/drive/My Drive/kaggle/titanic/titanic_data/\":\n",
        "    df.rename(columns={'Survived':'Perished'}, inplace=True)"
      ],
      "execution_count": null,
      "outputs": []
    },
    {
      "cell_type": "code",
      "metadata": {
        "id": "w9NDseFSxlDy"
      },
      "source": [
        "print(df.shape)"
      ],
      "execution_count": null,
      "outputs": []
    },
    {
      "cell_type": "markdown",
      "metadata": {
        "id": "B7tskdZKtBBr"
      },
      "source": [
        "## 1. データの概観・分析・前処理\n",
        "### 1.1 データの概観\n",
        "　データを見ていく上で、まず初めにデータのサイズを確認してみましょう。"
      ]
    },
    {
      "cell_type": "code",
      "metadata": {
        "id": "A1snWgQKtBBr"
      },
      "source": [
        "print('訓練データのデータ数は{}、変数は{}種類です。'.format(df.shape[0], df.shape[1]))\n",
        "print('テストデータのデータ数は{}、変数は{}種類です'.format(df_test.shape[0], df_test.shape[1]))"
      ],
      "execution_count": null,
      "outputs": []
    },
    {
      "cell_type": "markdown",
      "metadata": {
        "id": "2jYal-17tBBu"
      },
      "source": [
        "　訓練データの初めの10データを見てみましょう。"
      ]
    },
    {
      "cell_type": "code",
      "metadata": {
        "id": "oZxLfhYdtBBv"
      },
      "source": [
        "df.head(10)"
      ],
      "execution_count": null,
      "outputs": []
    },
    {
      "cell_type": "markdown",
      "metadata": {
        "id": "nruFKc7_tBBy"
      },
      "source": [
        "　変数名の一覧を見てみましょう。"
      ]
    },
    {
      "cell_type": "code",
      "metadata": {
        "id": "dL5O4BoltBBy"
      },
      "source": [
        "df.columns"
      ],
      "execution_count": null,
      "outputs": []
    },
    {
      "cell_type": "markdown",
      "metadata": {
        "id": "_b9HSHY2tBB1"
      },
      "source": [
        "　これらの変数名を、README.ipynbに示された変数の説明と対応付けておきましょう。  \n",
        "\n",
        "変数 |定義 |備考  \n",
        "---|---|---\n",
        "Perished |死亡したかどうか |0 = No, 1 = Yes\n",
        "Pclass |チケットのクラス |1 = 1st, 2 = 2nd, 3 = 3rd\n",
        "Name |名前 |\n",
        "Sex |性別 |\n",
        "Age\t|年齢 |\n",
        "SibSp |乗船していた兄弟姉妹・配偶者の数\t|\n",
        "Parch |乗船していた親・子供の数\t|\n",
        "Ticket |チケット番号\t|\n",
        "Fare |チケット料金\t|\n",
        "Cabin |キャビン番号\t|\n",
        "embarked |乗船した港\t|C = Cherbourg, Q = Queenstown, S = Southampton\n",
        "\n"
      ]
    },
    {
      "cell_type": "markdown",
      "metadata": {
        "id": "gQHs9iSDtBB2"
      },
      "source": [
        "### 1.2 データの分析\n",
        "　次に**EDA**と呼ばれる作業を行います。EDAとは、**Exploratory Data Analysis**の略で、日本語では**探索的データ分析**と訳されます。EDAでは、データを様々な角度から可視化したり、統計量を見ることで、データの特徴や構造を掴もうと試みます。この工程で得られた知見は機械学習モデルを選ぶ上でも、後に述べる特徴量エンジニアリングにおいても有用です。EDAで得た知見が役立つ理由の一つは、機械学習モデルによって仮定しているデータの特徴が異なることです。EDAによりデータに線型性・独立性・連続性などの特徴が観察できたり、後述の特徴量エンジニアリングでデータを加工することにより顕著な特徴を有した新しいデータを得ることができれば、それに適した機械学習モデルを用いることができます。  \n",
        "　以下に行うEDAは、\"EDA To Prediction (DieTanic)\"というAshwini Swain氏によるKaggle Notebookを参考にしたものです。\n",
        "  \n",
        "EDA To Prediction (DieTanic)：https://www.kaggle.com/ash316/eda-to-prediction-dietanic\n",
        "\n",
        "　まずは欠損値を確認しておきましょう。機械学習を用いたデータ分析に取り組む上で欠損値の確認は必須となっています。なぜならほとんどの機械学習モデルの実装は欠損値を含むデータに対して学習や予測ができず、エラーとなってしまうからです。"
      ]
    },
    {
      "cell_type": "code",
      "metadata": {
        "id": "RnlN426etBB2"
      },
      "source": [
        "df.isnull().sum()"
      ],
      "execution_count": null,
      "outputs": []
    },
    {
      "cell_type": "code",
      "metadata": {
        "id": "KqyVHK_ftBB5"
      },
      "source": [
        "df_test.isnull().sum()"
      ],
      "execution_count": null,
      "outputs": []
    },
    {
      "cell_type": "markdown",
      "metadata": {
        "id": "3BASgoqJtBB9"
      },
      "source": [
        "　**Age**、**Fare**, **Cabin**、**Embarked**の値の一部が欠損していることがわかりました。これらには後で対処することとします。  \n",
        "\n",
        "　次に生存者の割合をみてみましょう。"
      ]
    },
    {
      "cell_type": "code",
      "metadata": {
        "id": "3ZbIq5tvtBB-"
      },
      "source": [
        "f,ax=plt.subplots(1,2,figsize=(18,8), facecolor='gray')\n",
        "df['Perished'].value_counts().plot.pie(explode=[0,0.1],autopct='%1.1f%%',ax=ax[0],shadow=True)\n",
        "ax[0].set_title('Perished')\n",
        "ax[0].set_ylabel('')\n",
        "sns.countplot(x='Perished',data=df,ax=ax[1])\n",
        "ax[1].set_title('Perished')\n",
        "plt.show()"
      ],
      "execution_count": null,
      "outputs": []
    },
    {
      "cell_type": "code",
      "source": [
        "numerical_features = [\"Fare\", \"Age\"]\n",
        "num_bins = 100\n",
        "min_value = df[numerical_features].min().min()\n",
        "max_value = df[numerical_features].max().max()\n",
        "bins = np.linspace(min_value, max_value, num_bins)\n",
        "\n",
        "for col in numerical_features:\n",
        "    plt.figure(figsize=(12, 3))\n",
        "    sns.histplot(df[col], bins=bins, kde=True)\n",
        "    plt.title(f'{col}の分布')\n",
        "    plt.xlabel(col)\n",
        "    plt.ylabel('頻度')\n",
        "    plt.show()\n",
        "    print()"
      ],
      "metadata": {
        "id": "ReoBnVgPsGJU"
      },
      "execution_count": null,
      "outputs": []
    },
    {
      "cell_type": "markdown",
      "metadata": {
        "id": "-XIyfER-tBCA"
      },
      "source": [
        "生存率は38.4%であることがわかりました。分析対象となるデータには様々ありますが、一つの分類に**均衡データ**/**不均衡データ**というものがあります。不均衡データとは、主に予測対象のラベルの分布が著しく偏ったデータのことであり、病気の陽性/陰性などがその代表例です。不均衡データを分析する際には、データの前処理やモデルの構築、評価指標の選び方など様々な点において注意しなければなりません。しかし今回の予測対象であるPerishedは生存:死亡がおよそ4:6と均衡しているので、そうした心配の必要はありません。  \n",
        "\n",
        "　次にデータの型について見てみましょう。機械学習を用いてデータ分析を行う際には、データの型にも注意が必要です。なぜならほとんどの機械学習モデルの実装はカテゴリカル変数を含むデータに対して学習や予測ができず、エラーとなってしまうからです。  \n",
        "　データの型には大別して**数値データ**と**カテゴリカルデータ**があります。他にも日付・時間データなどがあったり、連続値データ/離散値データの区別があったりしますが、ここでは扱いません。数値データは文字通り数値が格納されたデータであり、カテゴリカルデータは主に文字列によってその分類が示されたデータです。ただしデータが数値であっても、その値の大小や順序が意味を持たない場合にはカテゴリカルデータとして扱う必要がある点には注意が必要です。  \n",
        "　この観点では今回のデータは以下のように分類されます。\n",
        "- 数値データ：Pclass, Age, SibSp, Parch, Fare\n",
        "- カテゴリカルデータ：Name, Sex, Ticket, Embarked\n",
        "\n",
        "　これらのカテゴリカルデータは機械学習モデルで扱えるよう、後で適切に処理します。\n",
        "\n",
        "　ここからは一つ一つの変数について見ていきましょう。ただし、ここではデモンストレーションとして一部しか扱いません。またデータ分析コンペティションでは、必ずしも全てのEDAを自分で一から行う必要はありません。基本的なEDAは多くの場合Kaggle Notebookとして共有されますし、pandas-profilingなどの便利なライブラリを用いれば済んでしまうからです。しかし他の参加者との差別化を図るには、自らEDAで得た知見を活用する必要があります。また実務においてEDAを肩代わりしてくれる人はいません。これらの理由から、やはり自分である程度のEDAをこなせる必要はあるでしょう。\n",
        "\n",
        "　まずは**Pclass**（チケットのクラス）について見ていきます。"
      ]
    },
    {
      "cell_type": "code",
      "metadata": {
        "id": "-9PeNrgYtBCB"
      },
      "source": [
        "f,ax=plt.subplots(1,2,figsize=(18,8), facecolor='gray')\n",
        "df['Pclass'].value_counts().plot.bar(color=['#CD7F32','#FFDF00','#D3D3D3'],ax=ax[0])\n",
        "ax[0].set_title('Number of Passengers By Pclass')\n",
        "ax[0].set_ylabel('Count')\n",
        "sns.countplot(x='Pclass',hue='Perished',data=df,ax=ax[1])\n",
        "ax[1].set_title('Pclass:Perished vs Survived')\n",
        "plt.show()"
      ],
      "execution_count": null,
      "outputs": []
    },
    {
      "cell_type": "markdown",
      "metadata": {
        "id": "POE5f95VtBCD"
      },
      "source": [
        "　Pclassごとに人数および死亡率が著しく異なっていることが見て取れます。特にPclass=3は人数が圧倒的に多く、死亡率が著しく高いことがわかります。一方でPclass=1は死亡率が非常に低くなっています。Pclassはチケットのクラスでしたから、ここに見た事実は、Pclassの値が小さいほどチケットのグレードが高いことを直ちに示唆しています。他にはどのような知見が得られるか考えてみましょう。\n",
        "\n",
        "　次に**Age**（年齢）について見てみます。"
      ]
    },
    {
      "cell_type": "code",
      "metadata": {
        "id": "9rAe4voOtBCF"
      },
      "source": [
        "f,ax=plt.subplots(1,2,figsize=(18,8), facecolor='gray')\n",
        "sns.violinplot(x=\"Pclass\",y=\"Age\", hue=\"Perished\", data=df,split=True,ax=ax[0])\n",
        "ax[0].set_title('Pclass and Age vs Perished')\n",
        "ax[0].set_yticks(range(0,110,10))\n",
        "sns.violinplot(x=\"Sex\",y=\"Age\", hue=\"Perished\", data=df,split=True,ax=ax[1])\n",
        "ax[1].set_title('Sex and Age vs Perished')\n",
        "ax[1].set_yticks(range(0,110,10))\n",
        "plt.show()"
      ],
      "execution_count": null,
      "outputs": []
    },
    {
      "cell_type": "markdown",
      "metadata": {
        "id": "2sv4tdxztBCK"
      },
      "source": [
        "　このような図を**バイオリン図**と言います。身近なところでは人口推計の男女別年齢分布が似たような図で示されています。この図からどのような知見が得られるでしょうか。最も顕著な傾向の一つは男性の幼年層に見られます。10歳以下の男性は死亡率が著しく低くなっています。この事実はタイタニック号の事故において幼い男の子が優先的に助けられたことを示唆しています。他にはどのような知見が得られるか考えてみましょう。\n",
        "\n",
        "　最後に**相関行列**の**ヒートマップ**を表示してみましょう。相関行列とは各成分に対応する相関係数を並べた行列のことであり、値の大小に応じて色をつけたものをヒートマップと呼びます。この図を表示することによって、変数間の相関の強さを一目で把握することができます。"
      ]
    },
    {
      "cell_type": "code",
      "metadata": {
        "id": "eiGF_ftttBCL"
      },
      "source": [
        "df_numeric = df.select_dtypes(include=['number'])\n",
        "sns.heatmap(df_numeric.corr(),annot=True,cmap='bwr',linewidths=0.2)\n",
        "fig=plt.gcf()\n",
        "fig.set_size_inches(10,8)\n",
        "plt.show()"
      ],
      "execution_count": null,
      "outputs": []
    },
    {
      "cell_type": "markdown",
      "metadata": {
        "id": "ov3x9TiXtBCN"
      },
      "source": [
        "　この図から、SibSpとParchの値に比較的強い正の相関があることがわかります。SibSpは同乗していた兄弟姉妹・配偶者の数であり、Parchは同乗していた親・子供の数であったので、この事実は理解しやすいでしょう。ここでSibSpの値とParchの値の和をとって「同乗していた家族の人数」という新しい変数を加えるアイデアが得られます。なぜならSibSpとParchという不自然な分類で二つの変数に分割してあるよりも「同乗していた家族の人数」という変数の方が自然である可能性があるからです。\n",
        "\n",
        "　他にもPclassとFareの値に比較的強い負の相関が見られます。この事実は、先に見たようにPclassの値が小さいほどチケットのグレードが高いという見立てを補強しています。この見立ては正しいと見ていいでしょう。  \n",
        "\n",
        "　このように相関が強い変数がある場合には注意が必要です。相関の強い変数を機械学習モデルの学習に用いると、一部のモデルでは**多重共線性**という問題が生じます。そのため著しく相関の強い変数がある場合は、その変数のうち一つだけを残して他の変数を削除するといった対策をすることがあります。ここでは相関が強すぎるという程では無いと見て、こうした対策は行いませんが、自分で試してみても良いでしょう。"
      ]
    },
    {
      "cell_type": "markdown",
      "metadata": {
        "id": "SqyMDmWXtBCN"
      },
      "source": [
        "## 1.3 データの前処理\n",
        "　ここでは、機械学習モデルが学習できるようにデータの前処理を行なっていきます。\n",
        "\n",
        "　まずは**欠損値**の補完です。先に見たようにAge、Fare, Cabin、Embarkedの4変数は一部が欠損していました。欠損値の補完には様々な手法があります。平均値や最頻値といった代表値で補完する手法、機械学習モデルで予測して予測値で補完する手法、-9999などの外れ値で補完することによって欠損していたという情報を保持する手法などが挙げられます。\n",
        "  \n",
        "　AgeとFareは数値データなので安直に平均値で補完してみましょう。この点で改善の余地は非常に大きいです。例えばNameに含まれる'Miss'と'Mrs'という敬称で平均年齢にズレがあるだろうことは容易に想像できます。余裕があればこのアイデアを実装してみたり、別のアイデアを考えてみたりしてみましょう。名案を思いついたが実装までは難しいという場合でも、他の受講生に実装のアドバイスを求めたり、そのアイデアについて議論してみたりしましょう。"
      ]
    },
    {
      "cell_type": "markdown",
      "source": [
        "#ageに関して\n",
        "\n",
        "ageは最頻値で補完する。"
      ],
      "metadata": {
        "id": "uw-HFqAYj6tM"
      }
    },
    {
      "cell_type": "code",
      "metadata": {
        "id": "hUrZG3fJtBCO"
      },
      "source": [
        "age = pd.concat([df['Age'], df_test['Age']])\n",
        "fare = pd.concat([df['Fare'], df_test['Fare']])\n",
        "age_mode = age.mode()[0]\n",
        "print(age_mode)\n",
        "df['Age'].fillna(age_mode, inplace=True)\n",
        "df_test['Age'].fillna(age_mode, inplace=True)\n",
        "\n",
        "df['Fare'].fillna(fare.mean(), inplace=True)\n",
        "df_test['Fare'].fillna(fare.mean(), inplace=True)\n",
        "\n",
        "df.isnull().sum()\n",
        "print(df_test.isnull().sum())"
      ],
      "execution_count": null,
      "outputs": []
    },
    {
      "cell_type": "markdown",
      "metadata": {
        "id": "l1XtfmHKtBCR"
      },
      "source": [
        "　このように、とりあえずAgeの欠損値を補完することができました。  \n",
        "　次はCabinですが、欠損値の数が全体の8割近いので、削除してしまいます。削除しないでどうにか補完する方法を考えてみても良いでしょう。欠損しているかしていないかという情報も有意であることがあるので、そのような情報を保つような補完の方法でも良いかもしれません。"
      ]
    },
    {
      "cell_type": "code",
      "metadata": {
        "id": "1cdHbPIotBCR"
      },
      "source": [
        "df.drop('Cabin', axis=1, inplace=True)\n",
        "df_test.drop('Cabin', axis=1, inplace=True)\n",
        "\n",
        "df.isnull().sum()"
      ],
      "execution_count": null,
      "outputs": []
    },
    {
      "cell_type": "markdown",
      "metadata": {
        "id": "T84S3Vx7tBCU"
      },
      "source": [
        "　このようにCabinの欠損にも対処できました。  \n",
        "　最後にEmbarkedの欠損値です。まずEmbarkedの分布を見てみましょう。"
      ]
    },
    {
      "cell_type": "code",
      "metadata": {
        "id": "R6V3YyyftBCV"
      },
      "source": [
        "sns.countplot(x='Embarked',data=df)\n",
        "plt.title('Number of Passengers Boarded')\n",
        "plt.show()"
      ],
      "execution_count": null,
      "outputs": []
    },
    {
      "cell_type": "markdown",
      "metadata": {
        "id": "ih19FLFYtBCX"
      },
      "source": [
        "　Embarked(乗船した港)は'S'(Southampton)が圧倒的に多いので、Embarkedの二件の欠損値は'S'で補完しておきましょう。"
      ]
    },
    {
      "cell_type": "code",
      "metadata": {
        "id": "pbs6wQ7_tBCY"
      },
      "source": [
        "df['Embarked'].fillna('S', inplace=True)\n",
        "df_test['Embarked'].fillna('S', inplace=True)\n",
        "\n",
        "df.isnull().sum()"
      ],
      "execution_count": null,
      "outputs": []
    },
    {
      "cell_type": "code",
      "source": [
        "df.head(20)"
      ],
      "metadata": {
        "id": "t3n4gzuIi0Go"
      },
      "execution_count": null,
      "outputs": []
    },
    {
      "cell_type": "markdown",
      "metadata": {
        "id": "_d2KphYhtBCd"
      },
      "source": [
        "　こうして全ての欠損値に対処することができました。\n",
        "\n",
        "　次に**カテゴリカルデータ**を機械学習モデルで扱えるよう処理します。カテゴリカルデータには、Name, Sex, Ticket, Embarkedがありました。  \n",
        "　まずはName, Ticketについてです。これらは扱いが難しいためこのデモンストレーションでは削除します。しかしこれはあまり良い判断ではありません。なぜなら前述のように'Miss'や'Mr'といった敬称が有意な情報を持っている可能性があるからです。またファミリーネームから、誰と誰が家族かという情報を得ることができる可能性もあります。Ticketに関しても同様になんらかの情報が得られる可能性は十分あります。余裕があればEDAで手がかりを探してみたり、アイデアを実装してみたりしましょう。"
      ]
    },
    {
      "cell_type": "code",
      "metadata": {
        "id": "hIIWhc46tBCd"
      },
      "source": [
        "# df.drop('Name', axis=1, inplace=True)\n",
        "# df_test.drop('Name', axis=1, inplace=True)\n",
        "\n",
        "# df.drop('Ticket', axis=1, inplace=True)\n",
        "# df_test.drop('Ticket', axis=1, inplace=True)\n",
        "\n",
        "# df.columns"
      ],
      "execution_count": null,
      "outputs": []
    },
    {
      "cell_type": "markdown",
      "metadata": {
        "id": "l5kJojsPtBCi"
      },
      "source": [
        "　次にSex（性別）です。このような二値のカテゴリカル変数は、一方を0、もう一方を1とすることで数値化することができます。ここでは男性を0、女性を1としておきます。"
      ]
    },
    {
      "cell_type": "code",
      "metadata": {
        "id": "k2PetrdVtBCj"
      },
      "source": [
        "df.replace({'Sex': {'male': 0, 'female': 1}}, inplace=True)\n",
        "df_test.replace({'Sex': {'male': 0, 'female': 1}}, inplace=True)\n",
        "\n",
        "df.head()"
      ],
      "execution_count": null,
      "outputs": []
    },
    {
      "cell_type": "markdown",
      "metadata": {
        "id": "D5l_2AOytBCn"
      },
      "source": [
        "　最後にEmbarked（乗船した港）です。先ほど見たようにEmbarkedには'S', 'C', 'Q'の3種類の値があります。男女を0と1で置き換えたように、'S', 'C', 'Q'を0, 1, 2で置き換えれば良いでしょうか？答えは一般には\"No\"です。なぜなら'S'<'C'<'Q'のような大小関係は存在せず、'Q'-'C'='C'-'S'のように値の間隔が意味をもつ訳でもないからです。ではどのようにEmbarkedというカテゴリカルデータを数値化すれば良いのでしょう。その一つの手法はOne-Hot Encodingです。One-Hot Encodingとは、下図のようにしてカテゴリカルデータを0と1に変換する手法です。\n",
        "\n",
        "![](https://blog.datascienceheroes.com/content/images/2019/07/one-hot-encoding.png)"
      ]
    },
    {
      "cell_type": "code",
      "metadata": {
        "id": "r4XglWRTtBCn"
      },
      "source": [
        "embarked = pd.concat([df['Embarked'], df_test['Embarked']])\n",
        "\n",
        "embarked_ohe = pd.get_dummies(embarked)\n",
        "\n",
        "embarked_ohe_train = embarked_ohe[:891]\n",
        "embarked_ohe_test = embarked_ohe[891:]\n",
        "\n",
        "df = pd.concat([df, embarked_ohe_train], axis=1)\n",
        "df_test = pd.concat([df_test, embarked_ohe_test], axis=1)\n",
        "\n",
        "df.drop('Embarked', axis=1, inplace=True)\n",
        "df_test.drop('Embarked', axis=1, inplace=True)\n",
        "\n",
        "df.head()"
      ],
      "execution_count": null,
      "outputs": []
    },
    {
      "cell_type": "code",
      "source": [
        "from collections import Counter\n",
        "family_name: Counter[int] = Counter()\n",
        "family_num: Counter[int] = Counter()\n",
        "for i in range(len(df)):\n",
        "    family_name[df.iloc[i][\"Name\"].split(\",\")[0]] += df.iloc[i][\"Perished\"]\n",
        "    family_num[df.iloc[i][\"Name\"].split(\",\")[0]] += 1"
      ],
      "metadata": {
        "id": "KZPrA24Oj36G"
      },
      "execution_count": null,
      "outputs": []
    },
    {
      "cell_type": "code",
      "source": [
        "# df[\"Master\"] = False\n",
        "# df_test[\"Master\"] = False\n",
        "# for i in range(len(df)):\n",
        "#     if df.iloc[i][\"Name\"].find(\"Master\") != -1:\n",
        "#         df[\"Master\"][i] = True\n",
        "# for i in range(len(df_test)):\n",
        "#     if df_test.iloc[i][\"Name\"].find(\"Master\") != -1:\n",
        "#         df_test[\"Master\"][i] = True\n",
        "\n",
        "# print(sum(df[\"Master\"])/len(df))\n",
        "\n"
      ],
      "metadata": {
        "id": "OywNbF5FRL58"
      },
      "execution_count": null,
      "outputs": []
    },
    {
      "cell_type": "code",
      "source": [
        "# df[\"Family_Perished\"] = -1\n",
        "# for i in range(len(df)):\n",
        "#     if family_num[df.iloc[i][\"Name\"].split(\",\")[0]] >= 2:\n",
        "#         df[\"Family_Perished\"][i] = (family_name[df.iloc[i][\"Name\"].split(\",\")[0]]-df.iloc[i][\"Perished\"]) / family_num[df.iloc[i][\"Name\"].split(\",\")[0]]\n",
        "\n",
        "# df_test[\"Family_Perished\"] = 0.5\n",
        "# for i in range(len(df_test)):\n",
        "#     if family_num[df_test.iloc[i][\"Name\"].split(\",\")[0]] >= 2:\n",
        "#         df_test[\"Family_Perished\"][i] = (family_name[df.iloc[i][\"Name\"].split(\",\")[0]]-df.iloc[i][\"Perished\"]) / family_num[df_test.iloc[i][\"Name\"].split(\",\")[0]]\n",
        "\n",
        "df.drop('Name', axis=1, inplace=True)\n",
        "df_test_name = df_test['Name']\n",
        "df_test.drop('Name', axis=1, inplace=True)\n",
        "df.head()"
      ],
      "metadata": {
        "id": "tuM2AzngrGwV"
      },
      "execution_count": null,
      "outputs": []
    },
    {
      "cell_type": "code",
      "metadata": {
        "id": "qaqR0H8OSHx0"
      },
      "source": [
        "df['Family'] = df['SibSp'] + df['Parch']\n",
        "df_test['Family'] = df_test['SibSp'] + df_test['Parch']\n",
        "\n",
        "df.drop(['SibSp', 'Parch'], axis=1, inplace=True)\n",
        "df_test.drop(['SibSp', 'Parch'], axis=1, inplace=True)\n",
        "df.head(10)"
      ],
      "execution_count": null,
      "outputs": []
    },
    {
      "cell_type": "code",
      "source": [
        "df[\"alone\"] = [1]*len(df)\n",
        "df_test[\"alone\"] = [1]*len(df_test)\n",
        "for i in range(len(df)):\n",
        "    if df.iloc[i][\"Family\"] == 0:\n",
        "        df[\"alone\"][i] = 0\n",
        "for i in range(len(df_test)):\n",
        "    if df_test.iloc[i][\"Family\"] == 0:\n",
        "        df_test[\"alone\"][i] = 0"
      ],
      "metadata": {
        "id": "BTL44umFReBw"
      },
      "execution_count": null,
      "outputs": []
    },
    {
      "cell_type": "code",
      "source": [
        "df.describe(include = 'all')\n",
        "df.drop('Ticket', axis=1, inplace=True)\n",
        "df_test.drop('Ticket', axis=1, inplace=True)\n",
        "df.head()"
      ],
      "metadata": {
        "id": "_uQWTHT6RhFm"
      },
      "execution_count": null,
      "outputs": []
    },
    {
      "cell_type": "code",
      "source": [
        "# 年齢をビンに分ける\n",
        "bins = [0, 10, 20, 30, 40, 50, 60, 70, 80]\n",
        "labels = ['0-10', '10-20', '20-30', '30-40', '40-50', '50-60', '60-70', '70-80']\n",
        "df['AgeGroup'] = pd.cut(df['Age'], bins=bins, labels=labels, right=False)\n",
        "\n",
        "# 各ビンでの生存率を計算\n",
        "age_survival = df.groupby('AgeGroup')['Perished'].mean() * 100  # パーセンテージに変換\n",
        "# バーグラフの作成\n",
        "age_survival.plot(kind='bar', edgecolor='black')\n",
        "# 各バーに生存率の値を表示\n",
        "for index, value in enumerate(age_survival):\n",
        "    plt.text(index, value + 1, f'{value:.1f}%', ha='center', fontsize=12)\n",
        "\n",
        "# グラフを表示\n",
        "plt.tight_layout()\n",
        "plt.show()\n",
        "df.drop('AgeGroup', axis=1, inplace=True)\n"
      ],
      "metadata": {
        "id": "EbiLCZBKpgGc"
      },
      "execution_count": null,
      "outputs": []
    },
    {
      "cell_type": "code",
      "source": [
        "# df_test[\"Family_Perished\"].value_counts(), df[\"Family_Perished\"].value_counts()"
      ],
      "metadata": {
        "id": "u-CsGzHzRSCv"
      },
      "execution_count": null,
      "outputs": []
    },
    {
      "cell_type": "code",
      "source": [
        "df"
      ],
      "metadata": {
        "id": "XPQDa28e2x5a"
      },
      "execution_count": null,
      "outputs": []
    },
    {
      "cell_type": "markdown",
      "metadata": {
        "id": "T0qVHr_8tBCq"
      },
      "source": [
        "　このようにして、全てのカテゴリカルデータを処理することができました。"
      ]
    },
    {
      "cell_type": "markdown",
      "metadata": {
        "id": "XdnZbcg0tBCq"
      },
      "source": [
        "## 2. ベースラインモデルの構築"
      ]
    },
    {
      "cell_type": "markdown",
      "metadata": {
        "id": "gYPNH1aVtBCq"
      },
      "source": [
        "　ここでようやくモデルの構築に入ります。モデルの構築においては、まずベースラインとなるモデルを作成することが多いです。ベースラインモデルは、機械学習モデルが学習できる形にデータが整形されているか確認することや、改良されたモデルと比較して改良の効果を評価することが主な目的です。ベースラインモデルは、あまり学習に時間のかからないモデルを用います。ここでは、ベースラインモデルとしてよく用いられるランダムフォレストを使用します。ランダムフォレストのアルゴリズムについては講義で学びますが、簡単に説明すると複数の決定木の多数決によって予測を行う機械学習モデルになります。  \n",
        "　まずdfとdf_testを**説明変数**と**目的変数**に分けます。\n",
        "- 説明変数：モデルの学習に使用する変数、今回の問題ではPassengerId, Perished以外の変数\n",
        "- 目的変数：予測対象の変数, 今回の問題ではPerished\n",
        "\n",
        "　ここでスライスしたdfとdf_testを.valuesとしてnumpy.ndarray型に変換しているのは、機械学習モデルの実装によってはこの型のデータしか受け付けないからです。"
      ]
    },
    {
      "cell_type": "code",
      "metadata": {
        "id": "5FioAWb7tBCr"
      },
      "source": [
        "X = df.iloc[:, 2:].values\n",
        "y = df.iloc[:, 1].values\n",
        "\n",
        "X_test = df_test.iloc[:, 1:].values"
      ],
      "execution_count": null,
      "outputs": []
    },
    {
      "cell_type": "markdown",
      "metadata": {
        "id": "d6dYYGKotBCu"
      },
      "source": [
        "　機械学習モデルにとって最大の障害の一つは**過学習**です。過学習とは機械学習モデルが訓練データを学習する際に、訓練データに対して正しい予測を与えようとするあまり、訓練データにしか良い予測を与えられず、テストデータや他のデータに対して役に立たなくなってしまう現象のことです。\n",
        "\n",
        "　この現象を回避するための手法の一つに**ホールドアウト法**があります。ホールドアウト法では、与えられた訓練データをさらに擬似訓練データと擬似テストデータに分割し、機械学習モデルを擬似訓練データで学習させます。その上で、擬似訓練データに対する予測精度と擬似テストデータに対する予測精度を比較して、二つの値に大きな解離が見られる場合には過学習が発生していると判断し、過学習を抑えるよう修正を加えます。  \n",
        "\n",
        "　今回は7:3で元の訓練データを分割して、擬似訓練データ(X_train, y_train)と擬似テストデータ(X_valid, y_valid)とします。変数名は何でも構いませんが、ここで用いたvalidとはvalidation(検証)の略です。これは擬似テストデータをモデルの予測精度の検証に用いることに由来します。\n",
        "\n",
        "　データの分割には、scikit-learnのtrain_test_split関数を使用しますが、分割はランダムに行われるため、再現性を保つためには乱数生成のシード値を引数random_stateで指定する必要があります。この値を42とする例が海外を中心に散見されるのは、この数字が、有名なSF作品「銀河ヒッチハイク・ガイド」で「生命、宇宙、そして万物についての究極の疑問の答え」とされているからだそうです。\n",
        "\n",
        "　ホールドアウト法の拡張には、**クロスバリデーション**があります。クロスバリデーションについては後で改めて解説します。"
      ]
    },
    {
      "cell_type": "code",
      "metadata": {
        "id": "7wEMNuLDtBCu"
      },
      "source": [
        "X_train, X_valid, y_train, y_valid = train_test_split(X, y, test_size=0.3, random_state=42)"
      ],
      "execution_count": null,
      "outputs": []
    },
    {
      "cell_type": "markdown",
      "metadata": {
        "id": "jIo5rKbhtBCz"
      },
      "source": [
        "　ランダムフォレストモデルを作成して、擬似訓練データ(X_train, y_train)を学習させます。ランダムフォレストモデルを作成する際に指定できる主な引数は以下の通りです。不明な用語がいくつかあるかもしれませんが、いずれ講義で解説があります。またこれら以外にも様々な引数があるので、公式ドキュメントなどを参照してみてください。\n",
        "- max_depth：決定木の深さの最大値\n",
        "- min_samples_leaf：葉が含むサンプル数の最小値\n",
        "- n_estimators：決定木の数\n",
        "- n_jobs：計算に用いるスレッド数\n",
        "- random_state：乱数生成のシード値"
      ]
    },
    {
      "cell_type": "code",
      "metadata": {
        "id": "moInQjCctBCz"
      },
      "source": [
        "rfc = RandomForestClassifier(max_depth=10, min_samples_leaf=1, n_estimators=100, n_jobs=-1, random_state=42)\n",
        "rfc.fit(X_train, y_train)"
      ],
      "execution_count": null,
      "outputs": []
    },
    {
      "cell_type": "markdown",
      "metadata": {
        "id": "XCfTfxFbtBC6"
      },
      "source": [
        "　このモデルによる予測精度の評価を、今回のコンペティションで指定された評価基準である**正解率(accuracy)**で行います。先述したように、擬似訓練データ(X_train, y_train)に対するスコアと擬似テストデータ(X_valid, y_valid)に対するスコアを見ます。これらの値が著しく解離している場合には、**過学習**が発生しているとして修正を行います。"
      ]
    },
    {
      "cell_type": "code",
      "metadata": {
        "id": "AHEX2mKLtBC7"
      },
      "source": [
        "print('Train Score: {}'.format(round(rfc.score(X_train, y_train), 3)))\n",
        "print(' Test Score: {}'.format(round(rfc.score(X_valid, y_valid), 3)))"
      ],
      "execution_count": null,
      "outputs": []
    },
    {
      "cell_type": "markdown",
      "metadata": {
        "id": "VwK4Y-AntBC9"
      },
      "source": [
        "　擬似訓練データに対する正解率が約95%であるのに対して、擬似テストデータに対する正解率が約79%となっています。これは明らかに**過学習**が発生している状況となっています。テストデータに対して良い予測を得るためにはこの状況を改善することが不可欠です。  \n",
        "　過学習を解決するためには機械学習の**ハイパーパラメータ**を調整する必要があります。ハイパーパラメータとは、機械学習モデルを作成する際に予め指定する必要のあるパラメータであり、データを学習しても更新されません。ランダムフォレストモデルの場合はmax_depth(決定木の深さの最大値)やmin_samples_leaf(葉が含むサンプル数の最小値)などがそれにあたります。例えば、max_depthの値を大きく設定するほど過学習の傾向が強まりますが、逆にmax_depthの値が小さすぎるとそもそもモデルの精度が得られません（この状況を過学習に対して**未学習**と呼びます）。  \n",
        "　過学習に起因する誤差を**バリアンス**、未学習に起因する誤差を**バイアス**と呼びますが、バリアンスとバイアスはトレードオフの関係にあります。そのため良いモデルを作成するためには、バリアンスとバイアスの両方を抑えられるようなハイパーパラメータを見つける必要があります。このようなハイパーパラメータを見つける方法には、**グリッドサーチ**と呼ばれるものや、**ベイズ最適化**を用いるものなどがあります。ここではグリッドサーチを紹介します。  \n",
        "　グリッドサーチとは、複数のハイパーパラメータを同時に最適化するため，離散的に指定されたハイパーパラメータの組に基づいて，しらみつぶしにモデルの予測精度を評価する手法です。ここではmax_depthの候補として(3, 5, 7)、min_samples_leafの候補として(1, 2, 4)を取ってみましょう。"
      ]
    },
    {
      "cell_type": "code",
      "metadata": {
        "id": "5FvIfsZQtBC9"
      },
      "source": [
        "param_grid = {'max_depth': [3, 5, 7],\n",
        "              'min_samples_leaf': [1, 2, 4]}\n",
        "\n",
        "for max_depth in param_grid['max_depth']:\n",
        "    for min_samples_leaf in param_grid['min_samples_leaf']:\n",
        "        rfc_grid = RandomForestClassifier(max_depth=max_depth, min_samples_leaf=min_samples_leaf,\n",
        "                                            n_estimators=100, n_jobs=-1, random_state=42)\n",
        "        rfc_grid.fit(X_train, y_train)\n",
        "        print('max_depth: {}, min_samples_leaf: {}'.format(max_depth, min_samples_leaf))\n",
        "        print('    Train Score: {}, Test Score: {}'.format(round(rfc_grid.score(X_train, y_train), 3),\n",
        "                                                           round(rfc_grid.score(X_valid, y_valid), 3)))"
      ],
      "execution_count": null,
      "outputs": []
    },
    {
      "cell_type": "markdown",
      "metadata": {
        "id": "IE3WQabStBC_"
      },
      "source": [
        "　このグリッドサーチは、先に軽く触れた**クロスバリデーション**と組み合わせて行われることが多いです。クロスバリデーションはホールドアウト法の拡張となっています。ホールドアウト法では訓練データを擬似訓練データと擬似テストデータの二つに分けましたが、クロスバリデーションでは自然数Nを指定してデータをN個に分割します。こうして分割されたN個のデータのうち1つを擬似テストデータ、残りを擬似訓練データとして学習と評価を行います。N個のデータがそれぞれ一回ずつ擬似テストデータとなるようN回の学習と評価を行い、得られたスコアの平均をそのモデルのスコアとします。下図を参照してください。  \n",
        "　このようにすることで、モデルの擬似テストデータに対するスコアがデータの分割方法に依らなくなることが期待されます。ホールドアウト法では、データを2つに分けてしまうため、データの分割方法によっては擬似訓練データと擬似テストデータに偏りが生じてしまいますが、クロスバリデーションではそのような可能性が平均操作により軽減されます。\n",
        "\n",
        "![](http://musashi.osdn.jp/tutorial/mining/xtclassify/nfold.jpg)\n",
        "\n",
        "　今回は訓練データを5分割してクロスバリデーションしてみましょう。"
      ]
    },
    {
      "cell_type": "code",
      "metadata": {
        "id": "4eCHttpvtBDA"
      },
      "source": [
        "rfc_gs = GridSearchCV(RandomForestClassifier(n_estimators=100, n_jobs=-1, random_state=42), param_grid, cv=5)\n",
        "rfc_gs.fit(X, y)\n",
        "\n",
        "print('Best Parameters: {}'.format(rfc_gs.best_params_))\n",
        "print('CV Score: {}'.format(round(rfc_gs.best_score_, 3)))"
      ],
      "execution_count": null,
      "outputs": []
    },
    {
      "cell_type": "code",
      "source": [
        "# 特徴量の重要度を取得\n",
        "importances = rfc.feature_importances_\n",
        "feature_names = df.iloc[:, 2:].columns\n",
        "\n",
        "# データフレームにまとめる\n",
        "feature_importances = pd.DataFrame({\n",
        "    'Feature': feature_names,\n",
        "    'Importance': importances\n",
        "})\n",
        "\n",
        "# 重要度でソート\n",
        "feature_importances = feature_importances.sort_values(by='Importance', ascending=False)\n",
        "\n",
        "plt.figure(figsize=(10, 6))\n",
        "plt.barh(feature_importances['Feature'], feature_importances['Importance'], color='skyblue')\n",
        "plt.gca().invert_yaxis()  # 重要度の高い順に表示\n",
        "plt.title('Feature Importances')\n",
        "plt.xlabel('Importance')\n",
        "plt.ylabel('Feature')\n",
        "plt.tight_layout()\n",
        "plt.show()"
      ],
      "metadata": {
        "id": "Orgu_8zeZLIB"
      },
      "execution_count": null,
      "outputs": []
    },
    {
      "cell_type": "markdown",
      "metadata": {
        "id": "WTeZ3y59tBDC"
      },
      "source": [
        "　ここではとりあえず、max_depth=7, min_samples_leaf=1と設定したランダムフォレストが得られました。データ分析コンペティションに取り組む際には、より詳細にハイパーパラメータをチューニングすべきです。しかしまだベースラインモデルの構築段階なので、まだここでは本格的にパラメータチューニングする必要は無いでしょう。"
      ]
    },
    {
      "cell_type": "markdown",
      "metadata": {
        "id": "6akb_UaltBDD"
      },
      "source": [
        "## 3. 特徴量エンジニアリング\n",
        "　次に**特徴量エンジニアリング**に取り組みます。特徴量エンジニアリングとは、説明変数に手を加えることでモデルの学習に効果的な変数（**特徴量**）を作成しようという試みです．特徴量エンジニアリングには、大きく分けて二つの方向性があります。一つは問題設定に依らない汎用的な手法を用いるものです。カテゴリカルデータの**エンコーディング**や**交差項**の作成などがこれにあたります。例えば、カテゴリ値のエンコーディングには先に紹介した**One-Hot Encoding**の他にも、**Label Encoding**、**Count Encoding**、**LabelCount Encoding**、**Target Encoding**、**Likelyhood Encoding**など様々あります。カテゴリ値のエンコーディングに関してはHJ van Veen氏の\"Feature Engineering\"が参考になります。\n",
        "\n",
        "\"Feature Engineering\": https://www.slideshare.net/HJvanVeen/feature-engineering-72376750  \n",
        "\n",
        "　また交差項とは、複数の説明変数の積です。交差項を特徴量として追加することによって、モデルの表現力が向上する場合があります。ただ交差項といっても何次の交差項まで考えるのか、何変数の交差項まで考えるのかなど、検証すべき点は多く存在します。また積だけでなく、四則演算や一般の演算に拡張することもできます。\n",
        "\n",
        "　もう一つの方針は，**ドメイン知識**に基づく特徴量エンジニアリングです．ドメイン知識とは，それぞれ問題に特有な背景知識のことです．今回の問題の場合は「海難事故だから、こうした特徴量が鍵を握っているだろう」といった背景的な知識に基づいて特徴量を作り込んで行くことになります。\n",
        "\n",
        "　データ分析コンペティションで最も大きく差の付く要因の一つがこの特徴量エンジニアリングです。ここでは、EDAから得られたアイデアである「SibSpの値とParchの値の和をとって、Family(同乗していた家族の人数)という新しい変数を加える」を試してみましょう。"
      ]
    },
    {
      "cell_type": "code",
      "metadata": {
        "id": "cxt9lVIKtBDE"
      },
      "source": [
        "# df_fe = df.copy()\n",
        "# df_fe_test = df_test.copy()\n",
        "\n",
        "# df_fe['Family'] = df['SibSp'] + df['Parch']\n",
        "# df_fe_test['Family'] = df_test['SibSp'] + df_test['Parch']\n",
        "\n",
        "# df_fe.drop(['SibSp', 'Parch'], axis=1, inplace=True)\n",
        "# df_fe_test.drop(['SibSp', 'Parch'], axis=1, inplace=True)\n",
        "# df_fe.head(10)"
      ],
      "execution_count": null,
      "outputs": []
    },
    {
      "cell_type": "markdown",
      "metadata": {
        "id": "QFYlLuc3tBDH"
      },
      "source": [
        "　このようにして得られた新たなデータを、先ほどのベースラインモデルと同様の構成のランダムフォレストに学習させてみます。"
      ]
    },
    {
      "cell_type": "markdown",
      "metadata": {
        "id": "r7cT8TPptBDL"
      },
      "source": [
        "　このアイデアは上手くいかず精度が下がってしまいまったので、採用しないこととします。特徴量エンジニアリングでは、このような試行錯誤を繰り返しながら特徴量を作り込んでいきます。余裕があれば、自分のアイデアを実装してみて、効果的な特徴量を見つけてみましょう。"
      ]
    },
    {
      "cell_type": "markdown",
      "metadata": {
        "id": "mz0A_mGutBDL"
      },
      "source": [
        "## 4. 様々なモデルの構築・調整\n",
        "　ベースラインモデルにはランダムフォレストを採用しましたが、機械学習モデルには他にも様々存在します。機械学習を用いたデータ分析では、用いる機械学習モデルを多様化することが重要です。なぜならそれぞれの機械学習モデルには前提としているデータの特徴があるなどして、得意不得意があったり予測に偏りがあったりするからです。こうした機械学習モデルごとの傾向は、複数のモデルを用意して**アンサンブリング**することによってキャンセルすることができます。アンサンブリングについては後で説明します。それぞれの機械学習モデルの特徴については、HJ van Veen氏の\"Winning Kaggle Competition\"にまとめられています。\n",
        "\n",
        "\"Winning Kaggle Competition\": https://www.slideshare.net/HJvanVeen/kaggle-presentation\n",
        "\n",
        "　今回はランダムフォレストの他に、ロジスティック回帰・多層パーセプトロンを作成してみます。ここではグリッドサーチやクロスバリデーションを用いたハイパーパラメータのチューニングは行いませんが、自分でデータ分析コンペティションに取り組む際にはちゃんと行うべきでしょう。  \n",
        "\n",
        "　まずはロジスティック回帰モデルです。"
      ]
    },
    {
      "cell_type": "code",
      "metadata": {
        "id": "JhnUR-pitBDM"
      },
      "source": [
        "lr = LogisticRegression(random_state=42)\n",
        "lr.fit(X_train, y_train)\n",
        "\n",
        "print('Logistic Regression \\n')\n",
        "print('Train Score: {}'.format(round(lr.score(X_train, y_train), 3)))\n",
        "print(' Test Score: {}'.format(round(lr.score(X_valid, y_valid), 3)))"
      ],
      "execution_count": null,
      "outputs": []
    },
    {
      "cell_type": "markdown",
      "metadata": {
        "id": "_gue76PGtBDO"
      },
      "source": [
        "　次に多層パーセプトロンモデルです。"
      ]
    },
    {
      "cell_type": "code",
      "metadata": {
        "id": "fodJwWbftBDO"
      },
      "source": [
        "mlpc = MLPClassifier(hidden_layer_sizes=(100, 100, 10), random_state=0)\n",
        "mlpc.fit(X_train, y_train)\n",
        "\n",
        "print('Multilayer Perceptron \\n')\n",
        "print('Train Score: {}'.format(round(mlpc.score(X_train, y_train), 3)))\n",
        "print(' Test Score: {}'.format(round(mlpc.score(X_valid, y_valid), 3)))"
      ],
      "execution_count": null,
      "outputs": []
    },
    {
      "cell_type": "markdown",
      "source": [
        "#  K近傍法でも試してみる\n",
        "\n",
        "参考にしたサイトは最後に記載してある"
      ],
      "metadata": {
        "id": "63GVh7wo72_m"
      }
    },
    {
      "cell_type": "code",
      "source": [
        "n_neighbors = 3\n",
        "# モデルの学習\n",
        "knc = KNeighborsClassifier(n_neighbors=n_neighbors)\n",
        "knc.fit(X_train, y_train)\n",
        "\n",
        "print('KNeighborsClassifier \\n')\n",
        "print('Train Score: {}'.format(round(knc.score(X_train, y_train), 3)))\n",
        "print(' Test Score: {}'.format(round(knc.score(X_valid, y_valid), 3)))\n",
        "# テストデータの分類予測\n",
        "# y_pred = knc.predict(x)"
      ],
      "metadata": {
        "id": "Bvu4iBku29lH"
      },
      "execution_count": null,
      "outputs": []
    },
    {
      "cell_type": "markdown",
      "source": [
        "#  GradientBoostingClassifierも試してみる"
      ],
      "metadata": {
        "id": "YsEXzKgTcpx6"
      }
    },
    {
      "cell_type": "code",
      "source": [
        "gbc = GradientBoostingClassifier(random_state=42)\n",
        "gbc.fit(X_train, y_train)\n",
        "\n",
        "print('GradientBoostingClassifier \\n')\n",
        "print('Train Score: {}'.format(round(gbc.score(X_train, y_train), 3)))\n",
        "print(' Test Score: {}'.format(round(gbc.score(X_valid, y_valid), 3)))"
      ],
      "metadata": {
        "id": "xedOl_2rcpTt"
      },
      "execution_count": null,
      "outputs": []
    },
    {
      "cell_type": "code",
      "source": [
        "from xgboost import XGBClassifier\n",
        "xgb = XGBClassifier(random_state=42)\n",
        "xgb.fit(X_train, y_train)\n",
        "print('XGBClassifier \\n')\n",
        "print('Train Score: {}'.format(round(xgb.score(X_train, y_train), 3)))\n",
        "print(' Test Score: {}'.format(round(xgb.score(X_valid, y_valid), 3)))"
      ],
      "metadata": {
        "id": "-zi1z7QJI19Y"
      },
      "execution_count": null,
      "outputs": []
    },
    {
      "cell_type": "code",
      "source": [
        "from sklearn.metrics import accuracy_score\n",
        "\n",
        "def objective(trial):\n",
        "    # Define your features and target\n",
        "    X_train = df.iloc[:, 2:].values  # Assuming first two columns are non-feature columns\n",
        "    y_train = y\n",
        "\n",
        "    # Initialize K-Fold\n",
        "    kf = KFold(n_splits=3, shuffle=True, random_state=0)\n",
        "\n",
        "    # Initialize out-of-fold predictions\n",
        "    oof = np.zeros(len(X_train))\n",
        "\n",
        "    # Iterate through each fold\n",
        "    for fold, (train_idx, valid_idx) in enumerate(kf.split(X_train, y_train)):\n",
        "        X_tr, X_val = X_train[train_idx], X_train[valid_idx]\n",
        "        y_tr, y_val = y_train[train_idx], y_train[valid_idx]\n",
        "\n",
        "        # Suggest hyperparameters\n",
        "        reg_alpha = trial.suggest_loguniform('reg_alpha', 1e-4, 100.0)\n",
        "        reg_lambda = trial.suggest_loguniform('reg_lambda', 1e-4, 100.0)\n",
        "        num_leaves = trial.suggest_int('num_leaves', 10, 40)\n",
        "        learning_rate = trial.suggest_loguniform('learning_rate', 1e-4, 1e-1)\n",
        "        n_estimators = trial.suggest_int('n_estimators', 100, 1000)\n",
        "\n",
        "        # Initialize the model with suggested hyperparameters\n",
        "        model = lgb_module.LGBMClassifier(\n",
        "            objective='binary',\n",
        "            reg_alpha=reg_alpha,\n",
        "            reg_lambda=reg_lambda,\n",
        "            num_leaves=num_leaves,\n",
        "            learning_rate=learning_rate,\n",
        "            n_estimators=n_estimators,\n",
        "            verbose=-1,  # Suppress output\n",
        "            random_state=0\n",
        "        )\n",
        "\n",
        "        # Fit the model\n",
        "        model.fit(\n",
        "            X_tr, y_tr,\n",
        "            eval_set=[(X_val, y_val)],\n",
        "            early_stopping_rounds=50,\n",
        "            verbose=False\n",
        "        )\n",
        "\n",
        "        # Predict on validation set\n",
        "        oof[valid_idx] = model.predict(X_val)\n",
        "\n",
        "    # Calculate accuracy\n",
        "    accuracy = accuracy_score(y_train, oof)\n",
        "\n",
        "    return accuracy  # Optuna will maximize this value\n"
      ],
      "metadata": {
        "id": "_GO3DIHc-Kdg"
      },
      "execution_count": null,
      "outputs": []
    },
    {
      "cell_type": "code",
      "source": [
        "\n",
        "# Create an Optuna study\n",
        "study = optuna.create_study(\n",
        "    direction='maximize',\n",
        "    sampler=RandomSampler(seed=0)  # Fixing the seed for reproducibility\n",
        ")\n",
        "\n",
        "# Optimize the study\n",
        "study.optimize(objective, n_trials=50)\n",
        "\n",
        "# Display the best results\n",
        "print(f\"Best objective value (Accuracy): {study.best_value}\")\n",
        "print(f\"Best parameters: {study.best_params}\")\n",
        "print(\"-\" * 50)\n",
        "\n",
        "# Retrieve the best parameters\n",
        "best_params = study.best_params\n",
        "best_params['objective'] = 'binary'\n",
        "best_params['verbose'] = -1  # Suppress output\n",
        "best_params['random_state'] = 0  # For reproducibility\n",
        "\n",
        "# Optional: Remove parameters that might not be needed or could cause issues\n",
        "# For example, if Optuna didn't suggest 'n_estimators', set a default\n",
        "best_params.setdefault('n_estimators', 1000)\n",
        "best_params.setdefault('learning_rate', 0.1)\n",
        "\n",
        "# Initialize the final model with the best parameters\n",
        "final_model = lgb_module.LGBMClassifier(**best_params)\n",
        "\n",
        "# Fit the final model on the entire dataset\n",
        "final_model.fit(X_train, y_train)"
      ],
      "metadata": {
        "colab": {
          "base_uri": "https://localhost:8080/",
          "height": 1000
        },
        "id": "PtPWdLjI-LRp",
        "outputId": "6bc717f1-c4e5-4a39-856c-0c4345840984"
      },
      "execution_count": 166,
      "outputs": [
        {
          "output_type": "stream",
          "name": "stderr",
          "text": [
            "\u001b[32m[I 2024-11-13 05:49:12,220]\u001b[0m Trial 0 finished with value: 0.16835016835016836 and parameters: {'reg_alpha': 0.19628224813442816, 'reg_lambda': 1.9549524484259886, 'num_leaves': 13}. Best is trial 0 with value: 0.16835016835016836.\u001b[0m\n",
            "\u001b[32m[I 2024-11-13 05:49:12,338]\u001b[0m Trial 1 finished with value: 0.202020202020202 and parameters: {'reg_alpha': 14.049915288175063, 'reg_lambda': 12.120218038438097, 'num_leaves': 29}. Best is trial 0 with value: 0.16835016835016836.\u001b[0m\n",
            "\u001b[32m[I 2024-11-13 05:49:12,591]\u001b[0m Trial 2 finished with value: 0.17059483726150393 and parameters: {'reg_alpha': 0.750524162234955, 'reg_lambda': 0.042220489831498315, 'num_leaves': 16}. Best is trial 0 with value: 0.16835016835016836.\u001b[0m\n",
            "\u001b[32m[I 2024-11-13 05:49:12,829]\u001b[0m Trial 3 finished with value: 0.17620650953984285 and parameters: {'reg_alpha': 0.00021891618132748294, 'reg_lambda': 0.004324518581155813, 'num_leaves': 11}. Best is trial 0 with value: 0.16835016835016836.\u001b[0m\n",
            "\u001b[32m[I 2024-11-13 05:49:12,950]\u001b[0m Trial 4 finished with value: 0.18294051627384966 and parameters: {'reg_alpha': 5.627949975223147, 'reg_lambda': 0.1490628836610165, 'num_leaves': 34}. Best is trial 0 with value: 0.16835016835016836.\u001b[0m\n",
            "\u001b[32m[I 2024-11-13 05:49:13,140]\u001b[0m Trial 5 finished with value: 0.1661054994388328 and parameters: {'reg_alpha': 0.022735723377092197, 'reg_lambda': 10.386580256500284, 'num_leaves': 18}. Best is trial 5 with value: 0.1661054994388328.\u001b[0m\n",
            "\u001b[32m[I 2024-11-13 05:49:13,392]\u001b[0m Trial 6 finished with value: 0.18294051627384966 and parameters: {'reg_alpha': 0.00033325432790051225, 'reg_lambda': 0.00013222402845895949, 'num_leaves': 29}. Best is trial 5 with value: 0.1661054994388328.\u001b[0m\n",
            "\u001b[32m[I 2024-11-13 05:49:13,491]\u001b[0m Trial 7 finished with value: 0.38383838383838387 and parameters: {'reg_alpha': 55.32621418752935, 'reg_lambda': 0.0006951918666569092, 'num_leaves': 10}. Best is trial 5 with value: 0.1661054994388328.\u001b[0m\n",
            "\u001b[32m[I 2024-11-13 05:49:13,589]\u001b[0m Trial 8 finished with value: 0.38383838383838387 and parameters: {'reg_alpha': 74.42349368719802, 'reg_lambda': 6.236650188352657, 'num_leaves': 29}. Best is trial 5 with value: 0.1661054994388328.\u001b[0m\n",
            "\u001b[32m[I 2024-11-13 05:49:13,844]\u001b[0m Trial 9 finished with value: 0.16947250280583614 and parameters: {'reg_alpha': 0.13269815277446304, 'reg_lambda': 1.18379685191733, 'num_leaves': 17}. Best is trial 5 with value: 0.1661054994388328.\u001b[0m\n",
            "\u001b[32m[I 2024-11-13 05:49:14,014]\u001b[0m Trial 10 finished with value: 0.164983164983165 and parameters: {'reg_alpha': 0.6910765046043328, 'reg_lambda': 0.0007246356970270906, 'num_leaves': 10}. Best is trial 10 with value: 0.164983164983165.\u001b[0m\n",
            "\u001b[32m[I 2024-11-13 05:49:14,351]\u001b[0m Trial 11 finished with value: 0.1728395061728395 and parameters: {'reg_alpha': 0.13523525694052893, 'reg_lambda': 0.030758959477348594, 'num_leaves': 13}. Best is trial 10 with value: 0.164983164983165.\u001b[0m\n",
            "\u001b[32m[I 2024-11-13 05:49:14,893]\u001b[0m Trial 12 finished with value: 0.1661054994388328 and parameters: {'reg_alpha': 0.001312181951598332, 'reg_lambda': 2.6394234007711033, 'num_leaves': 38}. Best is trial 10 with value: 0.164983164983165.\u001b[0m\n",
            "\u001b[32m[I 2024-11-13 05:49:15,512]\u001b[0m Trial 13 finished with value: 0.17620650953984285 and parameters: {'reg_alpha': 0.25739712587324903, 'reg_lambda': 0.00012963993440545028, 'num_leaves': 31}. Best is trial 10 with value: 0.164983164983165.\u001b[0m\n",
            "\u001b[32m[I 2024-11-13 05:49:16,015]\u001b[0m Trial 14 finished with value: 0.1795735129068462 and parameters: {'reg_alpha': 0.0007907682124793849, 'reg_lambda': 0.0021573883515769825, 'num_leaves': 27}. Best is trial 10 with value: 0.164983164983165.\u001b[0m\n",
            "\u001b[32m[I 2024-11-13 05:49:16,188]\u001b[0m Trial 15 finished with value: 0.2940516273849607 and parameters: {'reg_alpha': 45.971478464161336, 'reg_lambda': 1.2328828024348093, 'num_leaves': 36}. Best is trial 10 with value: 0.164983164983165.\u001b[0m\n",
            "\u001b[32m[I 2024-11-13 05:49:16,409]\u001b[0m Trial 16 finished with value: 0.18069584736251398 and parameters: {'reg_alpha': 0.4768488584612588, 'reg_lambda': 25.947259726504655, 'num_leaves': 17}. Best is trial 10 with value: 0.164983164983165.\u001b[0m\n",
            "\u001b[32m[I 2024-11-13 05:49:17,096]\u001b[0m Trial 17 finished with value: 0.16947250280583614 and parameters: {'reg_alpha': 0.00022980148444982768, 'reg_lambda': 1.0013831806758107, 'num_leaves': 33}. Best is trial 10 with value: 0.164983164983165.\u001b[0m\n",
            "\u001b[32m[I 2024-11-13 05:49:17,571]\u001b[0m Trial 18 finished with value: 0.1717171717171717 and parameters: {'reg_alpha': 0.0010603701920209522, 'reg_lambda': 0.014090065169509287, 'num_leaves': 10}. Best is trial 10 with value: 0.164983164983165.\u001b[0m\n",
            "\u001b[32m[I 2024-11-13 05:49:18,065]\u001b[0m Trial 19 finished with value: 0.1795735129068462 and parameters: {'reg_alpha': 0.007808544786049685, 'reg_lambda': 0.015214743167796887, 'num_leaves': 35}. Best is trial 10 with value: 0.164983164983165.\u001b[0m\n",
            "\u001b[32m[I 2024-11-13 05:49:18,520]\u001b[0m Trial 20 finished with value: 0.1661054994388328 and parameters: {'reg_alpha': 0.00017004057263206375, 'reg_lambda': 0.6392111585519015, 'num_leaves': 16}. Best is trial 10 with value: 0.164983164983165.\u001b[0m\n",
            "\u001b[32m[I 2024-11-13 05:49:19,009]\u001b[0m Trial 21 finished with value: 0.17396184062850728 and parameters: {'reg_alpha': 0.00040951410463904096, 'reg_lambda': 0.0017916803744057615, 'num_leaves': 13}. Best is trial 10 with value: 0.164983164983165.\u001b[0m\n",
            "\u001b[32m[I 2024-11-13 05:49:19,190]\u001b[0m Trial 22 finished with value: 0.38383838383838387 and parameters: {'reg_alpha': 93.71247458383999, 'reg_lambda': 0.309814668923803, 'num_leaves': 24}. Best is trial 10 with value: 0.164983164983165.\u001b[0m\n",
            "\u001b[32m[I 2024-11-13 05:49:19,682]\u001b[0m Trial 23 finished with value: 0.17732884399551063 and parameters: {'reg_alpha': 0.06278626332563014, 'reg_lambda': 0.0029278818805431135, 'num_leaves': 33}. Best is trial 10 with value: 0.164983164983165.\u001b[0m\n",
            "\u001b[32m[I 2024-11-13 05:49:20,094]\u001b[0m Trial 24 finished with value: 0.17396184062850728 and parameters: {'reg_alpha': 0.010667083361241505, 'reg_lambda': 1.1181856989774641, 'num_leaves': 26}. Best is trial 10 with value: 0.164983164983165.\u001b[0m\n",
            "\u001b[32m[I 2024-11-13 05:49:20,290]\u001b[0m Trial 25 finished with value: 0.17732884399551063 and parameters: {'reg_alpha': 0.0006746798008923241, 'reg_lambda': 0.0015117994050015157, 'num_leaves': 10}. Best is trial 10 with value: 0.164983164983165.\u001b[0m\n",
            "\u001b[32m[I 2024-11-13 05:49:20,513]\u001b[0m Trial 26 finished with value: 0.16835016835016836 and parameters: {'reg_alpha': 0.9444113584406976, 'reg_lambda': 0.00012062291337646017, 'num_leaves': 27}. Best is trial 10 with value: 0.164983164983165.\u001b[0m\n",
            "\u001b[32m[I 2024-11-13 05:49:20,691]\u001b[0m Trial 27 finished with value: 0.1874298540965208 and parameters: {'reg_alpha': 10.657846106959465, 'reg_lambda': 0.0003772162969353184, 'num_leaves': 39}. Best is trial 10 with value: 0.164983164983165.\u001b[0m\n",
            "\u001b[32m[I 2024-11-13 05:49:20,830]\u001b[0m Trial 28 finished with value: 0.202020202020202 and parameters: {'reg_alpha': 18.584925652841495, 'reg_lambda': 0.11422107949135153, 'num_leaves': 26}. Best is trial 10 with value: 0.164983164983165.\u001b[0m\n",
            "\u001b[32m[I 2024-11-13 05:49:20,999]\u001b[0m Trial 29 finished with value: 0.16722783389450058 and parameters: {'reg_alpha': 0.4256700735530981, 'reg_lambda': 2.726349171289779, 'num_leaves': 10}. Best is trial 10 with value: 0.164983164983165.\u001b[0m\n",
            "\u001b[32m[I 2024-11-13 05:49:21,190]\u001b[0m Trial 30 finished with value: 0.1874298540965208 and parameters: {'reg_alpha': 0.04469567778459808, 'reg_lambda': 75.4258777509209, 'num_leaves': 33}. Best is trial 10 with value: 0.164983164983165.\u001b[0m\n",
            "\u001b[32m[I 2024-11-13 05:49:21,478]\u001b[0m Trial 31 finished with value: 0.16722783389450058 and parameters: {'reg_alpha': 0.07679999380808122, 'reg_lambda': 1.3550867439218242, 'num_leaves': 40}. Best is trial 10 with value: 0.164983164983165.\u001b[0m\n",
            "\u001b[32m[I 2024-11-13 05:49:21,743]\u001b[0m Trial 32 finished with value: 0.18069584736251398 and parameters: {'reg_alpha': 0.030589893648986066, 'reg_lambda': 0.00024259674980082617, 'num_leaves': 28}. Best is trial 10 with value: 0.164983164983165.\u001b[0m\n",
            "\u001b[32m[I 2024-11-13 05:49:22,047]\u001b[0m Trial 33 finished with value: 0.16722783389450058 and parameters: {'reg_alpha': 0.24611223231872045, 'reg_lambda': 15.510127496940445, 'num_leaves': 28}. Best is trial 10 with value: 0.164983164983165.\u001b[0m\n",
            "\u001b[32m[I 2024-11-13 05:49:22,252]\u001b[0m Trial 34 finished with value: 0.17508417508417506 and parameters: {'reg_alpha': 0.1378758874402201, 'reg_lambda': 0.0003661365327691201, 'num_leaves': 11}. Best is trial 10 with value: 0.164983164983165.\u001b[0m\n",
            "\u001b[32m[I 2024-11-13 05:49:22,599]\u001b[0m Trial 35 finished with value: 0.17845117845117842 and parameters: {'reg_alpha': 0.0003152644168949509, 'reg_lambda': 0.004637793074186004, 'num_leaves': 18}. Best is trial 10 with value: 0.164983164983165.\u001b[0m\n",
            "\u001b[32m[I 2024-11-13 05:49:22,793]\u001b[0m Trial 36 finished with value: 0.16947250280583614 and parameters: {'reg_alpha': 1.0103277456997333, 'reg_lambda': 0.0006177136160192792, 'num_leaves': 10}. Best is trial 10 with value: 0.164983164983165.\u001b[0m\n",
            "\u001b[32m[I 2024-11-13 05:49:22,954]\u001b[0m Trial 37 finished with value: 0.19977553310886642 and parameters: {'reg_alpha': 11.176780326226275, 'reg_lambda': 0.00387597516517953, 'num_leaves': 24}. Best is trial 10 with value: 0.164983164983165.\u001b[0m\n",
            "\u001b[32m[I 2024-11-13 05:49:23,207]\u001b[0m Trial 38 finished with value: 0.16835016835016836 and parameters: {'reg_alpha': 0.33042858368124156, 'reg_lambda': 0.00013202168674787394, 'num_leaves': 18}. Best is trial 10 with value: 0.164983164983165.\u001b[0m\n",
            "\u001b[32m[I 2024-11-13 05:49:23,319]\u001b[0m Trial 39 finished with value: 0.17732884399551063 and parameters: {'reg_alpha': 0.016551926779874652, 'reg_lambda': 0.0007562242091037473, 'num_leaves': 12}. Best is trial 10 with value: 0.164983164983165.\u001b[0m\n",
            "\u001b[32m[I 2024-11-13 05:49:23,457]\u001b[0m Trial 40 finished with value: 0.16835016835016836 and parameters: {'reg_alpha': 0.004169153057131083, 'reg_lambda': 2.5772950090138034, 'num_leaves': 23}. Best is trial 10 with value: 0.164983164983165.\u001b[0m\n",
            "\u001b[32m[I 2024-11-13 05:49:23,581]\u001b[0m Trial 41 finished with value: 0.1661054994388328 and parameters: {'reg_alpha': 0.03978582535352882, 'reg_lambda': 3.4406473611584856, 'num_leaves': 18}. Best is trial 10 with value: 0.164983164983165.\u001b[0m\n",
            "\u001b[32m[I 2024-11-13 05:49:23,645]\u001b[0m Trial 42 finished with value: 0.2098765432098766 and parameters: {'reg_alpha': 23.78101161639414, 'reg_lambda': 0.6815950964989358, 'num_leaves': 13}. Best is trial 10 with value: 0.164983164983165.\u001b[0m\n",
            "\u001b[32m[I 2024-11-13 05:49:23,704]\u001b[0m Trial 43 finished with value: 0.2940516273849607 and parameters: {'reg_alpha': 52.058789939770044, 'reg_lambda': 0.04816729655337448, 'num_leaves': 14}. Best is trial 10 with value: 0.164983164983165.\u001b[0m\n",
            "\u001b[32m[I 2024-11-13 05:49:23,761]\u001b[0m Trial 44 finished with value: 0.38383838383838387 and parameters: {'reg_alpha': 74.37475883732206, 'reg_lambda': 0.00049797949182069, 'num_leaves': 32}. Best is trial 10 with value: 0.164983164983165.\u001b[0m\n",
            "\u001b[32m[I 2024-11-13 05:49:23,830]\u001b[0m Trial 45 finished with value: 0.1874298540965208 and parameters: {'reg_alpha': 7.63461107919691, 'reg_lambda': 0.023935055843446625, 'num_leaves': 34}. Best is trial 10 with value: 0.164983164983165.\u001b[0m\n",
            "\u001b[32m[I 2024-11-13 05:49:23,978]\u001b[0m Trial 46 finished with value: 0.1795735129068462 and parameters: {'reg_alpha': 0.003153389766717124, 'reg_lambda': 0.007573733017218684, 'num_leaves': 24}. Best is trial 10 with value: 0.164983164983165.\u001b[0m\n",
            "\u001b[32m[I 2024-11-13 05:49:24,100]\u001b[0m Trial 47 finished with value: 0.16947250280583614 and parameters: {'reg_alpha': 1.4295177111669275, 'reg_lambda': 2.2465996087670135, 'num_leaves': 32}. Best is trial 10 with value: 0.164983164983165.\u001b[0m\n",
            "\u001b[32m[I 2024-11-13 05:49:24,253]\u001b[0m Trial 48 finished with value: 0.17059483726150393 and parameters: {'reg_alpha': 0.15821130889304244, 'reg_lambda': 0.0024165631075138954, 'num_leaves': 18}. Best is trial 10 with value: 0.164983164983165.\u001b[0m\n",
            "\u001b[32m[I 2024-11-13 05:49:24,411]\u001b[0m Trial 49 finished with value: 0.1795735129068462 and parameters: {'reg_alpha': 0.03492450757022393, 'reg_lambda': 0.4348698361492537, 'num_leaves': 35}. Best is trial 10 with value: 0.164983164983165.\u001b[0m\n"
          ]
        },
        {
          "output_type": "stream",
          "name": "stdout",
          "text": [
            "Best objective value: 0.164983164983165\n",
            "Best parameters: {'reg_alpha': 0.6910765046043328, 'reg_lambda': 0.0007246356970270906, 'num_leaves': 10}\n",
            "--------------------------------------------------\n"
          ]
        },
        {
          "output_type": "execute_result",
          "data": {
            "text/plain": [
              "LGBMClassifier(num_leaves=10, objective='binary', reg_alpha=0.6910765046043328,\n",
              "               reg_lambda=0.0007246356970270906, verbose=-1)"
            ],
            "text/html": [
              "<style>#sk-container-id-5 {\n",
              "  /* Definition of color scheme common for light and dark mode */\n",
              "  --sklearn-color-text: black;\n",
              "  --sklearn-color-line: gray;\n",
              "  /* Definition of color scheme for unfitted estimators */\n",
              "  --sklearn-color-unfitted-level-0: #fff5e6;\n",
              "  --sklearn-color-unfitted-level-1: #f6e4d2;\n",
              "  --sklearn-color-unfitted-level-2: #ffe0b3;\n",
              "  --sklearn-color-unfitted-level-3: chocolate;\n",
              "  /* Definition of color scheme for fitted estimators */\n",
              "  --sklearn-color-fitted-level-0: #f0f8ff;\n",
              "  --sklearn-color-fitted-level-1: #d4ebff;\n",
              "  --sklearn-color-fitted-level-2: #b3dbfd;\n",
              "  --sklearn-color-fitted-level-3: cornflowerblue;\n",
              "\n",
              "  /* Specific color for light theme */\n",
              "  --sklearn-color-text-on-default-background: var(--sg-text-color, var(--theme-code-foreground, var(--jp-content-font-color1, black)));\n",
              "  --sklearn-color-background: var(--sg-background-color, var(--theme-background, var(--jp-layout-color0, white)));\n",
              "  --sklearn-color-border-box: var(--sg-text-color, var(--theme-code-foreground, var(--jp-content-font-color1, black)));\n",
              "  --sklearn-color-icon: #696969;\n",
              "\n",
              "  @media (prefers-color-scheme: dark) {\n",
              "    /* Redefinition of color scheme for dark theme */\n",
              "    --sklearn-color-text-on-default-background: var(--sg-text-color, var(--theme-code-foreground, var(--jp-content-font-color1, white)));\n",
              "    --sklearn-color-background: var(--sg-background-color, var(--theme-background, var(--jp-layout-color0, #111)));\n",
              "    --sklearn-color-border-box: var(--sg-text-color, var(--theme-code-foreground, var(--jp-content-font-color1, white)));\n",
              "    --sklearn-color-icon: #878787;\n",
              "  }\n",
              "}\n",
              "\n",
              "#sk-container-id-5 {\n",
              "  color: var(--sklearn-color-text);\n",
              "}\n",
              "\n",
              "#sk-container-id-5 pre {\n",
              "  padding: 0;\n",
              "}\n",
              "\n",
              "#sk-container-id-5 input.sk-hidden--visually {\n",
              "  border: 0;\n",
              "  clip: rect(1px 1px 1px 1px);\n",
              "  clip: rect(1px, 1px, 1px, 1px);\n",
              "  height: 1px;\n",
              "  margin: -1px;\n",
              "  overflow: hidden;\n",
              "  padding: 0;\n",
              "  position: absolute;\n",
              "  width: 1px;\n",
              "}\n",
              "\n",
              "#sk-container-id-5 div.sk-dashed-wrapped {\n",
              "  border: 1px dashed var(--sklearn-color-line);\n",
              "  margin: 0 0.4em 0.5em 0.4em;\n",
              "  box-sizing: border-box;\n",
              "  padding-bottom: 0.4em;\n",
              "  background-color: var(--sklearn-color-background);\n",
              "}\n",
              "\n",
              "#sk-container-id-5 div.sk-container {\n",
              "  /* jupyter's `normalize.less` sets `[hidden] { display: none; }`\n",
              "     but bootstrap.min.css set `[hidden] { display: none !important; }`\n",
              "     so we also need the `!important` here to be able to override the\n",
              "     default hidden behavior on the sphinx rendered scikit-learn.org.\n",
              "     See: https://github.com/scikit-learn/scikit-learn/issues/21755 */\n",
              "  display: inline-block !important;\n",
              "  position: relative;\n",
              "}\n",
              "\n",
              "#sk-container-id-5 div.sk-text-repr-fallback {\n",
              "  display: none;\n",
              "}\n",
              "\n",
              "div.sk-parallel-item,\n",
              "div.sk-serial,\n",
              "div.sk-item {\n",
              "  /* draw centered vertical line to link estimators */\n",
              "  background-image: linear-gradient(var(--sklearn-color-text-on-default-background), var(--sklearn-color-text-on-default-background));\n",
              "  background-size: 2px 100%;\n",
              "  background-repeat: no-repeat;\n",
              "  background-position: center center;\n",
              "}\n",
              "\n",
              "/* Parallel-specific style estimator block */\n",
              "\n",
              "#sk-container-id-5 div.sk-parallel-item::after {\n",
              "  content: \"\";\n",
              "  width: 100%;\n",
              "  border-bottom: 2px solid var(--sklearn-color-text-on-default-background);\n",
              "  flex-grow: 1;\n",
              "}\n",
              "\n",
              "#sk-container-id-5 div.sk-parallel {\n",
              "  display: flex;\n",
              "  align-items: stretch;\n",
              "  justify-content: center;\n",
              "  background-color: var(--sklearn-color-background);\n",
              "  position: relative;\n",
              "}\n",
              "\n",
              "#sk-container-id-5 div.sk-parallel-item {\n",
              "  display: flex;\n",
              "  flex-direction: column;\n",
              "}\n",
              "\n",
              "#sk-container-id-5 div.sk-parallel-item:first-child::after {\n",
              "  align-self: flex-end;\n",
              "  width: 50%;\n",
              "}\n",
              "\n",
              "#sk-container-id-5 div.sk-parallel-item:last-child::after {\n",
              "  align-self: flex-start;\n",
              "  width: 50%;\n",
              "}\n",
              "\n",
              "#sk-container-id-5 div.sk-parallel-item:only-child::after {\n",
              "  width: 0;\n",
              "}\n",
              "\n",
              "/* Serial-specific style estimator block */\n",
              "\n",
              "#sk-container-id-5 div.sk-serial {\n",
              "  display: flex;\n",
              "  flex-direction: column;\n",
              "  align-items: center;\n",
              "  background-color: var(--sklearn-color-background);\n",
              "  padding-right: 1em;\n",
              "  padding-left: 1em;\n",
              "}\n",
              "\n",
              "\n",
              "/* Toggleable style: style used for estimator/Pipeline/ColumnTransformer box that is\n",
              "clickable and can be expanded/collapsed.\n",
              "- Pipeline and ColumnTransformer use this feature and define the default style\n",
              "- Estimators will overwrite some part of the style using the `sk-estimator` class\n",
              "*/\n",
              "\n",
              "/* Pipeline and ColumnTransformer style (default) */\n",
              "\n",
              "#sk-container-id-5 div.sk-toggleable {\n",
              "  /* Default theme specific background. It is overwritten whether we have a\n",
              "  specific estimator or a Pipeline/ColumnTransformer */\n",
              "  background-color: var(--sklearn-color-background);\n",
              "}\n",
              "\n",
              "/* Toggleable label */\n",
              "#sk-container-id-5 label.sk-toggleable__label {\n",
              "  cursor: pointer;\n",
              "  display: block;\n",
              "  width: 100%;\n",
              "  margin-bottom: 0;\n",
              "  padding: 0.5em;\n",
              "  box-sizing: border-box;\n",
              "  text-align: center;\n",
              "}\n",
              "\n",
              "#sk-container-id-5 label.sk-toggleable__label-arrow:before {\n",
              "  /* Arrow on the left of the label */\n",
              "  content: \"▸\";\n",
              "  float: left;\n",
              "  margin-right: 0.25em;\n",
              "  color: var(--sklearn-color-icon);\n",
              "}\n",
              "\n",
              "#sk-container-id-5 label.sk-toggleable__label-arrow:hover:before {\n",
              "  color: var(--sklearn-color-text);\n",
              "}\n",
              "\n",
              "/* Toggleable content - dropdown */\n",
              "\n",
              "#sk-container-id-5 div.sk-toggleable__content {\n",
              "  max-height: 0;\n",
              "  max-width: 0;\n",
              "  overflow: hidden;\n",
              "  text-align: left;\n",
              "  /* unfitted */\n",
              "  background-color: var(--sklearn-color-unfitted-level-0);\n",
              "}\n",
              "\n",
              "#sk-container-id-5 div.sk-toggleable__content.fitted {\n",
              "  /* fitted */\n",
              "  background-color: var(--sklearn-color-fitted-level-0);\n",
              "}\n",
              "\n",
              "#sk-container-id-5 div.sk-toggleable__content pre {\n",
              "  margin: 0.2em;\n",
              "  border-radius: 0.25em;\n",
              "  color: var(--sklearn-color-text);\n",
              "  /* unfitted */\n",
              "  background-color: var(--sklearn-color-unfitted-level-0);\n",
              "}\n",
              "\n",
              "#sk-container-id-5 div.sk-toggleable__content.fitted pre {\n",
              "  /* unfitted */\n",
              "  background-color: var(--sklearn-color-fitted-level-0);\n",
              "}\n",
              "\n",
              "#sk-container-id-5 input.sk-toggleable__control:checked~div.sk-toggleable__content {\n",
              "  /* Expand drop-down */\n",
              "  max-height: 200px;\n",
              "  max-width: 100%;\n",
              "  overflow: auto;\n",
              "}\n",
              "\n",
              "#sk-container-id-5 input.sk-toggleable__control:checked~label.sk-toggleable__label-arrow:before {\n",
              "  content: \"▾\";\n",
              "}\n",
              "\n",
              "/* Pipeline/ColumnTransformer-specific style */\n",
              "\n",
              "#sk-container-id-5 div.sk-label input.sk-toggleable__control:checked~label.sk-toggleable__label {\n",
              "  color: var(--sklearn-color-text);\n",
              "  background-color: var(--sklearn-color-unfitted-level-2);\n",
              "}\n",
              "\n",
              "#sk-container-id-5 div.sk-label.fitted input.sk-toggleable__control:checked~label.sk-toggleable__label {\n",
              "  background-color: var(--sklearn-color-fitted-level-2);\n",
              "}\n",
              "\n",
              "/* Estimator-specific style */\n",
              "\n",
              "/* Colorize estimator box */\n",
              "#sk-container-id-5 div.sk-estimator input.sk-toggleable__control:checked~label.sk-toggleable__label {\n",
              "  /* unfitted */\n",
              "  background-color: var(--sklearn-color-unfitted-level-2);\n",
              "}\n",
              "\n",
              "#sk-container-id-5 div.sk-estimator.fitted input.sk-toggleable__control:checked~label.sk-toggleable__label {\n",
              "  /* fitted */\n",
              "  background-color: var(--sklearn-color-fitted-level-2);\n",
              "}\n",
              "\n",
              "#sk-container-id-5 div.sk-label label.sk-toggleable__label,\n",
              "#sk-container-id-5 div.sk-label label {\n",
              "  /* The background is the default theme color */\n",
              "  color: var(--sklearn-color-text-on-default-background);\n",
              "}\n",
              "\n",
              "/* On hover, darken the color of the background */\n",
              "#sk-container-id-5 div.sk-label:hover label.sk-toggleable__label {\n",
              "  color: var(--sklearn-color-text);\n",
              "  background-color: var(--sklearn-color-unfitted-level-2);\n",
              "}\n",
              "\n",
              "/* Label box, darken color on hover, fitted */\n",
              "#sk-container-id-5 div.sk-label.fitted:hover label.sk-toggleable__label.fitted {\n",
              "  color: var(--sklearn-color-text);\n",
              "  background-color: var(--sklearn-color-fitted-level-2);\n",
              "}\n",
              "\n",
              "/* Estimator label */\n",
              "\n",
              "#sk-container-id-5 div.sk-label label {\n",
              "  font-family: monospace;\n",
              "  font-weight: bold;\n",
              "  display: inline-block;\n",
              "  line-height: 1.2em;\n",
              "}\n",
              "\n",
              "#sk-container-id-5 div.sk-label-container {\n",
              "  text-align: center;\n",
              "}\n",
              "\n",
              "/* Estimator-specific */\n",
              "#sk-container-id-5 div.sk-estimator {\n",
              "  font-family: monospace;\n",
              "  border: 1px dotted var(--sklearn-color-border-box);\n",
              "  border-radius: 0.25em;\n",
              "  box-sizing: border-box;\n",
              "  margin-bottom: 0.5em;\n",
              "  /* unfitted */\n",
              "  background-color: var(--sklearn-color-unfitted-level-0);\n",
              "}\n",
              "\n",
              "#sk-container-id-5 div.sk-estimator.fitted {\n",
              "  /* fitted */\n",
              "  background-color: var(--sklearn-color-fitted-level-0);\n",
              "}\n",
              "\n",
              "/* on hover */\n",
              "#sk-container-id-5 div.sk-estimator:hover {\n",
              "  /* unfitted */\n",
              "  background-color: var(--sklearn-color-unfitted-level-2);\n",
              "}\n",
              "\n",
              "#sk-container-id-5 div.sk-estimator.fitted:hover {\n",
              "  /* fitted */\n",
              "  background-color: var(--sklearn-color-fitted-level-2);\n",
              "}\n",
              "\n",
              "/* Specification for estimator info (e.g. \"i\" and \"?\") */\n",
              "\n",
              "/* Common style for \"i\" and \"?\" */\n",
              "\n",
              ".sk-estimator-doc-link,\n",
              "a:link.sk-estimator-doc-link,\n",
              "a:visited.sk-estimator-doc-link {\n",
              "  float: right;\n",
              "  font-size: smaller;\n",
              "  line-height: 1em;\n",
              "  font-family: monospace;\n",
              "  background-color: var(--sklearn-color-background);\n",
              "  border-radius: 1em;\n",
              "  height: 1em;\n",
              "  width: 1em;\n",
              "  text-decoration: none !important;\n",
              "  margin-left: 1ex;\n",
              "  /* unfitted */\n",
              "  border: var(--sklearn-color-unfitted-level-1) 1pt solid;\n",
              "  color: var(--sklearn-color-unfitted-level-1);\n",
              "}\n",
              "\n",
              ".sk-estimator-doc-link.fitted,\n",
              "a:link.sk-estimator-doc-link.fitted,\n",
              "a:visited.sk-estimator-doc-link.fitted {\n",
              "  /* fitted */\n",
              "  border: var(--sklearn-color-fitted-level-1) 1pt solid;\n",
              "  color: var(--sklearn-color-fitted-level-1);\n",
              "}\n",
              "\n",
              "/* On hover */\n",
              "div.sk-estimator:hover .sk-estimator-doc-link:hover,\n",
              ".sk-estimator-doc-link:hover,\n",
              "div.sk-label-container:hover .sk-estimator-doc-link:hover,\n",
              ".sk-estimator-doc-link:hover {\n",
              "  /* unfitted */\n",
              "  background-color: var(--sklearn-color-unfitted-level-3);\n",
              "  color: var(--sklearn-color-background);\n",
              "  text-decoration: none;\n",
              "}\n",
              "\n",
              "div.sk-estimator.fitted:hover .sk-estimator-doc-link.fitted:hover,\n",
              ".sk-estimator-doc-link.fitted:hover,\n",
              "div.sk-label-container:hover .sk-estimator-doc-link.fitted:hover,\n",
              ".sk-estimator-doc-link.fitted:hover {\n",
              "  /* fitted */\n",
              "  background-color: var(--sklearn-color-fitted-level-3);\n",
              "  color: var(--sklearn-color-background);\n",
              "  text-decoration: none;\n",
              "}\n",
              "\n",
              "/* Span, style for the box shown on hovering the info icon */\n",
              ".sk-estimator-doc-link span {\n",
              "  display: none;\n",
              "  z-index: 9999;\n",
              "  position: relative;\n",
              "  font-weight: normal;\n",
              "  right: .2ex;\n",
              "  padding: .5ex;\n",
              "  margin: .5ex;\n",
              "  width: min-content;\n",
              "  min-width: 20ex;\n",
              "  max-width: 50ex;\n",
              "  color: var(--sklearn-color-text);\n",
              "  box-shadow: 2pt 2pt 4pt #999;\n",
              "  /* unfitted */\n",
              "  background: var(--sklearn-color-unfitted-level-0);\n",
              "  border: .5pt solid var(--sklearn-color-unfitted-level-3);\n",
              "}\n",
              "\n",
              ".sk-estimator-doc-link.fitted span {\n",
              "  /* fitted */\n",
              "  background: var(--sklearn-color-fitted-level-0);\n",
              "  border: var(--sklearn-color-fitted-level-3);\n",
              "}\n",
              "\n",
              ".sk-estimator-doc-link:hover span {\n",
              "  display: block;\n",
              "}\n",
              "\n",
              "/* \"?\"-specific style due to the `<a>` HTML tag */\n",
              "\n",
              "#sk-container-id-5 a.estimator_doc_link {\n",
              "  float: right;\n",
              "  font-size: 1rem;\n",
              "  line-height: 1em;\n",
              "  font-family: monospace;\n",
              "  background-color: var(--sklearn-color-background);\n",
              "  border-radius: 1rem;\n",
              "  height: 1rem;\n",
              "  width: 1rem;\n",
              "  text-decoration: none;\n",
              "  /* unfitted */\n",
              "  color: var(--sklearn-color-unfitted-level-1);\n",
              "  border: var(--sklearn-color-unfitted-level-1) 1pt solid;\n",
              "}\n",
              "\n",
              "#sk-container-id-5 a.estimator_doc_link.fitted {\n",
              "  /* fitted */\n",
              "  border: var(--sklearn-color-fitted-level-1) 1pt solid;\n",
              "  color: var(--sklearn-color-fitted-level-1);\n",
              "}\n",
              "\n",
              "/* On hover */\n",
              "#sk-container-id-5 a.estimator_doc_link:hover {\n",
              "  /* unfitted */\n",
              "  background-color: var(--sklearn-color-unfitted-level-3);\n",
              "  color: var(--sklearn-color-background);\n",
              "  text-decoration: none;\n",
              "}\n",
              "\n",
              "#sk-container-id-5 a.estimator_doc_link.fitted:hover {\n",
              "  /* fitted */\n",
              "  background-color: var(--sklearn-color-fitted-level-3);\n",
              "}\n",
              "</style><div id=\"sk-container-id-5\" class=\"sk-top-container\"><div class=\"sk-text-repr-fallback\"><pre>LGBMClassifier(num_leaves=10, objective=&#x27;binary&#x27;, reg_alpha=0.6910765046043328,\n",
              "               reg_lambda=0.0007246356970270906, verbose=-1)</pre><b>In a Jupyter environment, please rerun this cell to show the HTML representation or trust the notebook. <br />On GitHub, the HTML representation is unable to render, please try loading this page with nbviewer.org.</b></div><div class=\"sk-container\" hidden><div class=\"sk-item\"><div class=\"sk-estimator fitted sk-toggleable\"><input class=\"sk-toggleable__control sk-hidden--visually\" id=\"sk-estimator-id-5\" type=\"checkbox\" checked><label for=\"sk-estimator-id-5\" class=\"sk-toggleable__label fitted sk-toggleable__label-arrow fitted\">&nbsp;LGBMClassifier<span class=\"sk-estimator-doc-link fitted\">i<span>Fitted</span></span></label><div class=\"sk-toggleable__content fitted\"><pre>LGBMClassifier(num_leaves=10, objective=&#x27;binary&#x27;, reg_alpha=0.6910765046043328,\n",
              "               reg_lambda=0.0007246356970270906, verbose=-1)</pre></div> </div></div></div></div>"
            ]
          },
          "metadata": {},
          "execution_count": 166
        }
      ]
    },
    {
      "cell_type": "markdown",
      "metadata": {
        "id": "zfcP3v2ktBDR"
      },
      "source": [
        "## 5. モデルのアンサンブリング\n",
        "　先に述べたように、複数のモデルを**アンサンブリング**することによってより頑健なモデルとすることができます。アンサンブリングとは、複数のモデルを組み合わせて一つのモデルとすることです。アンサンブリングには、**バギング**・**ブースティング**・**スタッキング**など様々な手法がありますが、最もシンプルな手法は複数のモデルの予測値の重み付け平均を最終的な予測値とすることです。分類問題では、これは複数のモデルによる重み付け多数決となっています。  \n",
        "　今回は、単純に3つのモデルの予測値の算術平均を四捨五入して最終的な予測としましょう。ただしこれら3つのモデルは、予測値を確率として表すことができるので、この確率的な予測値の平均を用います。  \n",
        "　このような四捨五入の場合0.5が閾値となってPerishedの値を決定しますが、必ずしもその閾値は0.5が良いとは限りません。問題や評価指標によっては、より小さい値を閾値にした方が良い場合もありますし、より大きい値を閾値とした方が良い場合もあります。つまりこの点についても改良の余地は存在します。"
      ]
    },
    {
      "cell_type": "code",
      "metadata": {
        "id": "0D8wIVqatBDS",
        "colab": {
          "base_uri": "https://localhost:8080/"
        },
        "outputId": "eafaec41-e9b1-43cd-97a2-e161477e3d1e"
      },
      "source": [
        "rfc_pred = rfc_gs.predict_proba(X_test)\n",
        "lr_pred = lr.predict_proba(X_test)\n",
        "mlpc_pred = mlpc.predict_proba(X_test)\n",
        "knc_pred = knc.predict_proba(X_test)\n",
        "gbc_pred = gbc.predict_proba(X_test)\n",
        "lgb_pred = lgb.predict_proba(X_test)\n",
        "pred_proba = (rfc_pred+gbc_pred+lgb_pred)/3\n",
        "\n",
        "print(pred_proba)\n",
        "pred = pred_proba.argmax(axis=1)\n",
        "print(pred)"
      ],
      "execution_count": 167,
      "outputs": [
        {
          "output_type": "stream",
          "name": "stdout",
          "text": [
            "[[0.08408223 0.91591777]\n",
            " [0.24904229 0.75095771]\n",
            " [0.07831216 0.92168784]\n",
            " [0.18025374 0.81974626]\n",
            " [0.49120974 0.50879026]\n",
            " [0.21841483 0.78158517]\n",
            " [0.38880445 0.61119555]\n",
            " [0.1517605  0.8482395 ]\n",
            " [0.82476712 0.17523288]\n",
            " [0.10301228 0.89698772]\n",
            " [0.0687682  0.9312318 ]\n",
            " [0.14096322 0.85903678]\n",
            " [0.97309493 0.02690507]\n",
            " [0.08641465 0.91358535]\n",
            " [0.94202812 0.05797188]\n",
            " [0.92866193 0.07133807]\n",
            " [0.11622274 0.88377726]\n",
            " [0.19539542 0.80460458]\n",
            " [0.5275961  0.4724039 ]\n",
            " [0.49795092 0.50204908]\n",
            " [0.43749572 0.56250428]\n",
            " [0.36208907 0.63791093]\n",
            " [0.95261344 0.04738656]\n",
            " [0.47245417 0.52754583]\n",
            " [0.91510078 0.08489922]\n",
            " [0.06558419 0.93441581]\n",
            " [0.97770419 0.02229581]\n",
            " [0.18873612 0.81126388]\n",
            " [0.46215323 0.53784677]\n",
            " [0.32486125 0.67513875]\n",
            " [0.0762886  0.9237114 ]\n",
            " [0.20396429 0.79603571]\n",
            " [0.56548209 0.43451791]\n",
            " [0.34065127 0.65934873]\n",
            " [0.61224834 0.38775166]\n",
            " [0.19063613 0.80936387]\n",
            " [0.2956588  0.7043412 ]\n",
            " [0.29636052 0.70363948]\n",
            " [0.08146404 0.91853596]\n",
            " [0.42300823 0.57699177]\n",
            " [0.16062663 0.83937337]\n",
            " [0.41107489 0.58892511]\n",
            " [0.09572773 0.90427227]\n",
            " [0.91473535 0.08526465]\n",
            " [0.96951195 0.03048805]\n",
            " [0.13327982 0.86672018]\n",
            " [0.30273798 0.69726202]\n",
            " [0.11993228 0.88006772]\n",
            " [0.94205623 0.05794377]\n",
            " [0.62462797 0.37537203]\n",
            " [0.35899194 0.64100806]\n",
            " [0.20348529 0.79651471]\n",
            " [0.89757804 0.10242196]\n",
            " [0.82192861 0.17807139]\n",
            " [0.23438034 0.76561966]\n",
            " [0.04173198 0.95826802]\n",
            " [0.09052401 0.90947599]\n",
            " [0.1042172  0.8957828 ]\n",
            " [0.09768195 0.90231805]\n",
            " [0.98070183 0.01929817]\n",
            " [0.07917847 0.92082153]\n",
            " [0.21014509 0.78985491]\n",
            " [0.09817396 0.90182604]\n",
            " [0.76440418 0.23559582]\n",
            " [0.41630008 0.58369992]\n",
            " [0.90309977 0.09690023]\n",
            " [0.72050043 0.27949957]\n",
            " [0.13584159 0.86415841]\n",
            " [0.3569136  0.6430864 ]\n",
            " [0.80598249 0.19401751]\n",
            " [0.71434378 0.28565622]\n",
            " [0.07090967 0.92909033]\n",
            " [0.45382253 0.54617747]\n",
            " [0.41978351 0.58021649]\n",
            " [0.97756096 0.02243904]\n",
            " [0.48192027 0.51807973]\n",
            " [0.08491307 0.91508693]\n",
            " [0.88252006 0.11747994]\n",
            " [0.12418185 0.87581815]\n",
            " [0.71434378 0.28565622]\n",
            " [0.90040168 0.09959832]\n",
            " [0.18114584 0.81885416]\n",
            " [0.19580071 0.80419929]\n",
            " [0.0687682  0.9312318 ]\n",
            " [0.13685571 0.86314429]\n",
            " [0.16315825 0.83684175]\n",
            " [0.79664232 0.20335768]\n",
            " [0.42275949 0.57724051]\n",
            " [0.71434378 0.28565622]\n",
            " [0.91295099 0.08704901]\n",
            " [0.52838241 0.47161759]\n",
            " [0.10988298 0.89011702]\n",
            " [0.90443172 0.09556828]\n",
            " [0.08491307 0.91508693]\n",
            " [0.35503303 0.64496697]\n",
            " [0.14942803 0.85057197]\n",
            " [0.95189495 0.04810505]\n",
            " [0.19204037 0.80795963]\n",
            " [0.47183024 0.52816976]\n",
            " [0.13463701 0.86536299]\n",
            " [0.9855748  0.0144252 ]\n",
            " [0.11244634 0.88755366]\n",
            " [0.11993228 0.88006772]\n",
            " [0.17730316 0.82269684]\n",
            " [0.56405149 0.43594851]\n",
            " [0.1034195  0.8965805 ]\n",
            " [0.12759233 0.87240767]\n",
            " [0.11993228 0.88006772]\n",
            " [0.07532863 0.92467137]\n",
            " [0.13267715 0.86732285]\n",
            " [0.11403909 0.88596091]\n",
            " [0.74201708 0.25798292]\n",
            " [0.94834604 0.05165396]\n",
            " [0.65145354 0.34854646]\n",
            " [0.94054651 0.05945349]\n",
            " [0.18982029 0.81017971]\n",
            " [0.08311762 0.91688238]\n",
            " [0.82678195 0.17321805]\n",
            " [0.55275886 0.44724114]\n",
            " [0.90279976 0.09720024]\n",
            " [0.92187226 0.07812774]\n",
            " [0.1226715  0.8773285 ]\n",
            " [0.98624983 0.01375017]\n",
            " [0.08473324 0.91526676]\n",
            " [0.11993228 0.88006772]\n",
            " [0.57045505 0.42954495]\n",
            " [0.11557745 0.88442255]\n",
            " [0.76612038 0.23387962]\n",
            " [0.145847   0.854153  ]\n",
            " [0.08491307 0.91508693]\n",
            " [0.21746784 0.78253216]\n",
            " [0.20260883 0.79739117]\n",
            " [0.08322865 0.91677135]\n",
            " [0.11326443 0.88673557]\n",
            " [0.08726318 0.91273682]\n",
            " [0.09224513 0.90775487]\n",
            " [0.19962753 0.80037247]\n",
            " [0.13275761 0.86724239]\n",
            " [0.30018675 0.69981325]\n",
            " [0.02654617 0.97345383]\n",
            " [0.071684   0.928316  ]\n",
            " [0.95947216 0.04052784]\n",
            " [0.16502925 0.83497075]\n",
            " [0.09645693 0.90354307]\n",
            " [0.49621996 0.50378004]\n",
            " [0.13721317 0.86278683]\n",
            " [0.1620622  0.8379378 ]\n",
            " [0.08661775 0.91338225]\n",
            " [0.41107489 0.58892511]\n",
            " [0.08809351 0.91190649]\n",
            " [0.98146443 0.01853557]\n",
            " [0.13986883 0.86013117]\n",
            " [0.14870279 0.85129721]\n",
            " [0.54118117 0.45881883]\n",
            " [0.14183022 0.85816978]\n",
            " [0.0815285  0.9184715 ]\n",
            " [0.95161142 0.04838858]\n",
            " [0.47557357 0.52442643]\n",
            " [0.49621996 0.50378004]\n",
            " [0.47673562 0.52326438]\n",
            " [0.7704246  0.2295754 ]\n",
            " [0.79752128 0.20247872]\n",
            " [0.89780038 0.10219962]\n",
            " [0.06422902 0.93577098]\n",
            " [0.13725549 0.86274451]\n",
            " [0.45410513 0.54589487]\n",
            " [0.3305985  0.6694015 ]\n",
            " [0.03318226 0.96681774]\n",
            " [0.9231756  0.0768244 ]\n",
            " [0.30204608 0.69795392]\n",
            " [0.0815285  0.9184715 ]\n",
            " [0.23296288 0.76703712]\n",
            " [0.15072636 0.84927364]\n",
            " [0.14978632 0.85021368]\n",
            " [0.10359665 0.89640335]\n",
            " [0.94538572 0.05461428]\n",
            " [0.94441357 0.05558643]\n",
            " [0.5016266  0.4983734 ]\n",
            " [0.94787552 0.05212448]\n",
            " [0.95847226 0.04152774]\n",
            " [0.12418185 0.87581815]\n",
            " [0.50731944 0.49268056]\n",
            " [0.97371999 0.02628001]\n",
            " [0.11993228 0.88006772]\n",
            " [0.9561683  0.0438317 ]\n",
            " [0.1319925  0.8680075 ]\n",
            " [0.90877101 0.09122899]\n",
            " [0.1767381  0.8232619 ]\n",
            " [0.08290676 0.91709324]\n",
            " [0.13725549 0.86274451]\n",
            " [0.11234501 0.88765499]\n",
            " [0.16711839 0.83288161]\n",
            " [0.36171474 0.63828526]\n",
            " [0.08708684 0.91291316]\n",
            " [0.77142185 0.22857815]\n",
            " [0.101979   0.898021  ]\n",
            " [0.85352348 0.14647652]\n",
            " [0.48968208 0.51031792]\n",
            " [0.09422388 0.90577612]\n",
            " [0.36532763 0.63467237]\n",
            " [0.78728488 0.21271512]\n",
            " [0.89754405 0.10245595]\n",
            " [0.29134443 0.70865557]\n",
            " [0.94409407 0.05590593]\n",
            " [0.10194552 0.89805448]\n",
            " [0.29197065 0.70802935]\n",
            " [0.45851925 0.54148075]\n",
            " [0.09624548 0.90375452]\n",
            " [0.90296889 0.09703111]\n",
            " [0.08501627 0.91498373]\n",
            " [0.22032083 0.77967917]\n",
            " [0.05819879 0.94180121]\n",
            " [0.15129779 0.84870221]\n",
            " [0.86138293 0.13861707]\n",
            " [0.33007718 0.66992282]\n",
            " [0.22985436 0.77014564]\n",
            " [0.75091283 0.24908717]\n",
            " [0.19945695 0.80054305]\n",
            " [0.94954765 0.05045235]\n",
            " [0.08491307 0.91508693]\n",
            " [0.87054011 0.12945989]\n",
            " [0.08813163 0.91186837]\n",
            " [0.87521439 0.12478561]\n",
            " [0.11783951 0.88216049]\n",
            " [0.76582743 0.23417257]\n",
            " [0.54541428 0.45458572]\n",
            " [0.11541091 0.88458909]\n",
            " [0.71434378 0.28565622]\n",
            " [0.11521461 0.88478539]\n",
            " [0.13934248 0.86065752]\n",
            " [0.25148808 0.74851192]\n",
            " [0.95612717 0.04387283]\n",
            " [0.06808594 0.93191406]\n",
            " [0.12340578 0.87659422]\n",
            " [0.49732679 0.50267321]\n",
            " [0.09181348 0.90818652]\n",
            " [0.36975998 0.63024002]\n",
            " [0.19646309 0.80353691]\n",
            " [0.90550213 0.09449787]\n",
            " [0.9819502  0.0180498 ]\n",
            " [0.76291076 0.23708924]\n",
            " [0.92086572 0.07913428]\n",
            " [0.40118334 0.59881666]\n",
            " [0.06914411 0.93085589]\n",
            " [0.08429712 0.91570288]\n",
            " [0.22345449 0.77654551]\n",
            " [0.91757583 0.08242417]\n",
            " [0.15431047 0.84568953]\n",
            " [0.90279976 0.09720024]\n",
            " [0.37539629 0.62460371]\n",
            " [0.91201511 0.08798489]\n",
            " [0.13184137 0.86815863]\n",
            " [0.41951031 0.58048969]\n",
            " [0.07532863 0.92467137]\n",
            " [0.12817653 0.87182347]\n",
            " [0.0815285  0.9184715 ]\n",
            " [0.11993228 0.88006772]\n",
            " [0.11954327 0.88045673]\n",
            " [0.89844851 0.10155149]\n",
            " [0.11088063 0.88911937]\n",
            " [0.10015177 0.89984823]\n",
            " [0.09336106 0.90663894]\n",
            " [0.89312109 0.10687891]\n",
            " [0.81851353 0.18148647]\n",
            " [0.17727104 0.82272896]\n",
            " [0.0687682  0.9312318 ]\n",
            " [0.08309785 0.91690215]\n",
            " [0.0815285  0.9184715 ]\n",
            " [0.2956588  0.7043412 ]\n",
            " [0.10002446 0.89997554]\n",
            " [0.34493299 0.65506701]\n",
            " [0.11993228 0.88006772]\n",
            " [0.96246148 0.03753852]\n",
            " [0.79506825 0.20493175]\n",
            " [0.1427379  0.8572621 ]\n",
            " [0.92325647 0.07674353]\n",
            " [0.11417559 0.88582441]\n",
            " [0.10003375 0.89996625]\n",
            " [0.0828781  0.9171219 ]\n",
            " [0.0984164  0.9015836 ]\n",
            " [0.2921942  0.7078058 ]\n",
            " [0.92204276 0.07795724]\n",
            " [0.71434378 0.28565622]\n",
            " [0.58379598 0.41620402]\n",
            " [0.74497842 0.25502158]\n",
            " [0.06551834 0.93448166]\n",
            " [0.08100887 0.91899113]\n",
            " [0.25524325 0.74475675]\n",
            " [0.14978632 0.85021368]\n",
            " [0.08491307 0.91508693]\n",
            " [0.16791231 0.83208769]\n",
            " [0.28489791 0.71510209]\n",
            " [0.14978632 0.85021368]\n",
            " [0.21803591 0.78196409]\n",
            " [0.10843784 0.89156216]\n",
            " [0.11010982 0.88989018]\n",
            " [0.93208594 0.06791406]\n",
            " [0.32486125 0.67513875]\n",
            " [0.19616697 0.80383303]\n",
            " [0.12877307 0.87122693]\n",
            " [0.1790598  0.8209402 ]\n",
            " [0.1481751  0.8518249 ]\n",
            " [0.08959878 0.91040122]\n",
            " [0.07545408 0.92454592]\n",
            " [0.71434378 0.28565622]\n",
            " [0.89815407 0.10184593]\n",
            " [0.24678788 0.75321212]\n",
            " [0.83628306 0.16371694]\n",
            " [0.28276295 0.71723705]\n",
            " [0.23645613 0.76354387]\n",
            " [0.10145303 0.89854697]\n",
            " [0.18873612 0.81126388]\n",
            " [0.0815285  0.9184715 ]\n",
            " [0.35986259 0.64013741]\n",
            " [0.9431955  0.0568045 ]\n",
            " [0.77295657 0.22704343]\n",
            " [0.29775163 0.70224837]\n",
            " [0.13384301 0.86615699]\n",
            " [0.21042615 0.78957385]\n",
            " [0.20494052 0.79505948]\n",
            " [0.17730316 0.82269684]\n",
            " [0.17792505 0.82207495]\n",
            " [0.13275761 0.86724239]\n",
            " [0.55300377 0.44699623]\n",
            " [0.96541927 0.03458073]\n",
            " [0.05592269 0.94407731]\n",
            " [0.9237105  0.0762895 ]\n",
            " [0.32727704 0.67272296]\n",
            " [0.085669   0.914331  ]\n",
            " [0.10471513 0.89528487]\n",
            " [0.95416463 0.04583537]\n",
            " [0.35091544 0.64908456]\n",
            " [0.1427379  0.8572621 ]\n",
            " [0.75340505 0.24659495]\n",
            " [0.17086327 0.82913673]\n",
            " [0.21898456 0.78101544]\n",
            " [0.22246603 0.77753397]\n",
            " [0.10444509 0.89555491]\n",
            " [0.22776412 0.77223588]\n",
            " [0.14978632 0.85021368]\n",
            " [0.13245611 0.86754389]\n",
            " [0.13749632 0.86250368]\n",
            " [0.03110347 0.96889653]\n",
            " [0.94990546 0.05009454]\n",
            " [0.08949435 0.91050565]\n",
            " [0.67578459 0.32421541]\n",
            " [0.13275761 0.86724239]\n",
            " [0.50169306 0.49830694]\n",
            " [0.0963005  0.9036995 ]\n",
            " [0.94874077 0.05125923]\n",
            " [0.97023158 0.02976842]\n",
            " [0.10194552 0.89805448]\n",
            " [0.13704286 0.86295714]\n",
            " [0.15568052 0.84431948]\n",
            " [0.71779744 0.28220256]\n",
            " [0.16274641 0.83725359]\n",
            " [0.94208305 0.05791695]\n",
            " [0.09098003 0.90901997]\n",
            " [0.11993228 0.88006772]\n",
            " [0.48161687 0.51838313]\n",
            " [0.03209382 0.96790618]\n",
            " [0.96524089 0.03475911]\n",
            " [0.94874077 0.05125923]\n",
            " [0.18025374 0.81974626]\n",
            " [0.97933931 0.02066069]\n",
            " [0.08290676 0.91709324]\n",
            " [0.16187264 0.83812736]\n",
            " [0.40306472 0.59693528]\n",
            " [0.9762896  0.0237104 ]\n",
            " [0.29962593 0.70037407]\n",
            " [0.10314933 0.89685067]\n",
            " [0.98635562 0.01364438]\n",
            " [0.07285182 0.92714818]\n",
            " [0.13206457 0.86793543]\n",
            " [0.96202103 0.03797897]\n",
            " [0.95157193 0.04842807]\n",
            " [0.31838688 0.68161312]\n",
            " [0.09795438 0.90204562]\n",
            " [0.12427361 0.87572639]\n",
            " [0.38696707 0.61303293]\n",
            " [0.11993228 0.88006772]\n",
            " [0.2010304  0.7989696 ]\n",
            " [0.35265477 0.64734523]\n",
            " [0.60367364 0.39632636]\n",
            " [0.10039445 0.89960555]\n",
            " [0.92983904 0.07016096]\n",
            " [0.10988298 0.89011702]\n",
            " [0.09891772 0.90108228]\n",
            " [0.12228577 0.87771423]\n",
            " [0.31341259 0.68658741]\n",
            " [0.30746113 0.69253887]\n",
            " [0.9445544  0.0554456 ]\n",
            " [0.3838902  0.6161098 ]\n",
            " [0.09035818 0.90964182]\n",
            " [0.03440821 0.96559179]\n",
            " [0.97200702 0.02799298]\n",
            " [0.08634364 0.91365636]\n",
            " [0.98102696 0.01897304]\n",
            " [0.10861857 0.89138143]\n",
            " [0.08406104 0.91593896]\n",
            " [0.95296146 0.04703854]\n",
            " [0.09710376 0.90289624]\n",
            " [0.98298934 0.01701066]\n",
            " [0.16433023 0.83566977]\n",
            " [0.26203945 0.73796055]\n",
            " [0.31636401 0.68363599]\n",
            " [0.10511829 0.89488171]\n",
            " [0.32643193 0.67356807]\n",
            " [0.7704246  0.2295754 ]\n",
            " [0.80955272 0.19044728]\n",
            " [0.71434378 0.28565622]\n",
            " [0.97702721 0.02297279]\n",
            " [0.40326097 0.59673903]\n",
            " [0.08491307 0.91508693]\n",
            " [0.98494681 0.01505319]\n",
            " [0.06304311 0.93695689]\n",
            " [0.08491307 0.91508693]\n",
            " [0.33261488 0.66738512]]\n",
            "[1 1 1 1 1 1 1 1 0 1 1 1 0 1 0 0 1 1 0 1 1 1 0 1 0 1 0 1 1 1 1 1 0 1 0 1 1\n",
            " 1 1 1 1 1 1 0 0 1 1 1 0 0 1 1 0 0 1 1 1 1 1 0 1 1 1 0 1 0 0 1 1 0 0 1 1 1\n",
            " 0 1 1 0 1 0 0 1 1 1 1 1 0 1 0 0 0 1 0 1 1 1 0 1 1 1 0 1 1 1 0 1 1 1 1 1 1\n",
            " 0 0 0 0 1 1 0 0 0 0 1 0 1 1 0 1 0 1 1 1 1 1 1 1 1 1 1 1 1 1 0 1 1 1 1 1 1\n",
            " 1 1 0 1 1 0 1 1 0 1 1 1 0 0 0 1 1 1 1 1 0 1 1 1 1 1 1 0 0 0 0 0 1 0 0 1 0\n",
            " 1 0 1 1 1 1 1 1 1 0 1 0 1 1 1 0 0 1 0 1 1 1 1 0 1 1 1 1 0 1 1 0 1 0 1 0 1\n",
            " 0 1 0 0 1 0 1 1 1 0 1 1 1 1 1 1 0 0 0 0 1 1 1 1 0 1 0 1 0 1 1 1 1 1 1 1 0\n",
            " 1 1 1 0 0 1 1 1 1 1 1 1 1 0 0 1 0 1 1 1 1 1 0 0 0 0 1 1 1 1 1 1 1 1 1 1 1\n",
            " 0 1 1 1 1 1 1 1 0 0 1 0 1 1 1 1 1 1 0 0 1 1 1 1 1 1 1 0 0 1 0 1 1 1 0 1 1\n",
            " 0 1 1 1 1 1 1 1 1 1 0 1 0 1 0 1 0 0 1 1 1 0 1 0 1 1 1 1 0 0 1 0 1 1 1 0 1\n",
            " 1 0 1 1 0 0 1 1 1 1 1 1 1 0 1 0 1 1 1 1 1 0 1 1 1 0 1 0 1 1 0 1 0 1 1 1 1\n",
            " 1 0 0 0 0 1 1 0 1 1 1]\n"
          ]
        }
      ]
    },
    {
      "cell_type": "markdown",
      "metadata": {
        "id": "1wdh36RftBDU"
      },
      "source": [
        "　このようにして提出すべき予測値が得られました。"
      ]
    },
    {
      "cell_type": "markdown",
      "metadata": {
        "id": "o5I_MQiqtBDV"
      },
      "source": [
        "## 6. 予測の出力・提出\n",
        "　最後に得られた予測値を規定の形式に整形して、csvファイルとして出力しましょう。  \n",
        "　まず規定の形式を確認しましょう。README.ipynbでは以下のようなcsvファイルで提出するよう指示されていました。\n",
        "\n",
        "PassengerID|Perished\n",
        "---|---\n",
        "892|1\n",
        "893|0\n",
        "894|1\n",
        "…|…\n",
        "1307|1\n",
        "1308|1\n",
        "1309|1\n",
        "\n",
        "　また、gender_submission.csvがその例とされていたので、これを確認します。\\\n",
        "※ファイルの読み込み方法は自身の作業場所によって変わります。このnotebookをコピーして用いる場合はそのまま実行することができますが、自分の環境に合わせて適切な形に修正する必要が生じる場合もあります。"
      ]
    },
    {
      "cell_type": "code",
      "metadata": {
        "id": "5EABfWMvtBDV",
        "colab": {
          "base_uri": "https://localhost:8080/",
          "height": 423
        },
        "outputId": "3400e0a1-344e-4564-a44c-7327bd28ea2b"
      },
      "source": [
        " # 読み込むデータが格納されたディレクトリのパス，必要に応じて変更の必要あり\n",
        "# path = \"/content/drive/My Drive/松尾研/GCI/コンペ１/\"\n",
        "submission = pd.read_csv(path + 'gender_submission.csv')\n",
        "submission"
      ],
      "execution_count": 168,
      "outputs": [
        {
          "output_type": "execute_result",
          "data": {
            "text/plain": [
              "     PassengerId  Perished\n",
              "0            892         1\n",
              "1            893         0\n",
              "2            894         1\n",
              "3            895         1\n",
              "4            896         0\n",
              "..           ...       ...\n",
              "413         1305         1\n",
              "414         1306         0\n",
              "415         1307         1\n",
              "416         1308         1\n",
              "417         1309         1\n",
              "\n",
              "[418 rows x 2 columns]"
            ],
            "text/html": [
              "\n",
              "  <div id=\"df-029deb8b-3e63-4c39-88fa-d908a4ac364d\" class=\"colab-df-container\">\n",
              "    <div>\n",
              "<style scoped>\n",
              "    .dataframe tbody tr th:only-of-type {\n",
              "        vertical-align: middle;\n",
              "    }\n",
              "\n",
              "    .dataframe tbody tr th {\n",
              "        vertical-align: top;\n",
              "    }\n",
              "\n",
              "    .dataframe thead th {\n",
              "        text-align: right;\n",
              "    }\n",
              "</style>\n",
              "<table border=\"1\" class=\"dataframe\">\n",
              "  <thead>\n",
              "    <tr style=\"text-align: right;\">\n",
              "      <th></th>\n",
              "      <th>PassengerId</th>\n",
              "      <th>Perished</th>\n",
              "    </tr>\n",
              "  </thead>\n",
              "  <tbody>\n",
              "    <tr>\n",
              "      <th>0</th>\n",
              "      <td>892</td>\n",
              "      <td>1</td>\n",
              "    </tr>\n",
              "    <tr>\n",
              "      <th>1</th>\n",
              "      <td>893</td>\n",
              "      <td>0</td>\n",
              "    </tr>\n",
              "    <tr>\n",
              "      <th>2</th>\n",
              "      <td>894</td>\n",
              "      <td>1</td>\n",
              "    </tr>\n",
              "    <tr>\n",
              "      <th>3</th>\n",
              "      <td>895</td>\n",
              "      <td>1</td>\n",
              "    </tr>\n",
              "    <tr>\n",
              "      <th>4</th>\n",
              "      <td>896</td>\n",
              "      <td>0</td>\n",
              "    </tr>\n",
              "    <tr>\n",
              "      <th>...</th>\n",
              "      <td>...</td>\n",
              "      <td>...</td>\n",
              "    </tr>\n",
              "    <tr>\n",
              "      <th>413</th>\n",
              "      <td>1305</td>\n",
              "      <td>1</td>\n",
              "    </tr>\n",
              "    <tr>\n",
              "      <th>414</th>\n",
              "      <td>1306</td>\n",
              "      <td>0</td>\n",
              "    </tr>\n",
              "    <tr>\n",
              "      <th>415</th>\n",
              "      <td>1307</td>\n",
              "      <td>1</td>\n",
              "    </tr>\n",
              "    <tr>\n",
              "      <th>416</th>\n",
              "      <td>1308</td>\n",
              "      <td>1</td>\n",
              "    </tr>\n",
              "    <tr>\n",
              "      <th>417</th>\n",
              "      <td>1309</td>\n",
              "      <td>1</td>\n",
              "    </tr>\n",
              "  </tbody>\n",
              "</table>\n",
              "<p>418 rows × 2 columns</p>\n",
              "</div>\n",
              "    <div class=\"colab-df-buttons\">\n",
              "\n",
              "  <div class=\"colab-df-container\">\n",
              "    <button class=\"colab-df-convert\" onclick=\"convertToInteractive('df-029deb8b-3e63-4c39-88fa-d908a4ac364d')\"\n",
              "            title=\"Convert this dataframe to an interactive table.\"\n",
              "            style=\"display:none;\">\n",
              "\n",
              "  <svg xmlns=\"http://www.w3.org/2000/svg\" height=\"24px\" viewBox=\"0 -960 960 960\">\n",
              "    <path d=\"M120-120v-720h720v720H120Zm60-500h600v-160H180v160Zm220 220h160v-160H400v160Zm0 220h160v-160H400v160ZM180-400h160v-160H180v160Zm440 0h160v-160H620v160ZM180-180h160v-160H180v160Zm440 0h160v-160H620v160Z\"/>\n",
              "  </svg>\n",
              "    </button>\n",
              "\n",
              "  <style>\n",
              "    .colab-df-container {\n",
              "      display:flex;\n",
              "      gap: 12px;\n",
              "    }\n",
              "\n",
              "    .colab-df-convert {\n",
              "      background-color: #E8F0FE;\n",
              "      border: none;\n",
              "      border-radius: 50%;\n",
              "      cursor: pointer;\n",
              "      display: none;\n",
              "      fill: #1967D2;\n",
              "      height: 32px;\n",
              "      padding: 0 0 0 0;\n",
              "      width: 32px;\n",
              "    }\n",
              "\n",
              "    .colab-df-convert:hover {\n",
              "      background-color: #E2EBFA;\n",
              "      box-shadow: 0px 1px 2px rgba(60, 64, 67, 0.3), 0px 1px 3px 1px rgba(60, 64, 67, 0.15);\n",
              "      fill: #174EA6;\n",
              "    }\n",
              "\n",
              "    .colab-df-buttons div {\n",
              "      margin-bottom: 4px;\n",
              "    }\n",
              "\n",
              "    [theme=dark] .colab-df-convert {\n",
              "      background-color: #3B4455;\n",
              "      fill: #D2E3FC;\n",
              "    }\n",
              "\n",
              "    [theme=dark] .colab-df-convert:hover {\n",
              "      background-color: #434B5C;\n",
              "      box-shadow: 0px 1px 3px 1px rgba(0, 0, 0, 0.15);\n",
              "      filter: drop-shadow(0px 1px 2px rgba(0, 0, 0, 0.3));\n",
              "      fill: #FFFFFF;\n",
              "    }\n",
              "  </style>\n",
              "\n",
              "    <script>\n",
              "      const buttonEl =\n",
              "        document.querySelector('#df-029deb8b-3e63-4c39-88fa-d908a4ac364d button.colab-df-convert');\n",
              "      buttonEl.style.display =\n",
              "        google.colab.kernel.accessAllowed ? 'block' : 'none';\n",
              "\n",
              "      async function convertToInteractive(key) {\n",
              "        const element = document.querySelector('#df-029deb8b-3e63-4c39-88fa-d908a4ac364d');\n",
              "        const dataTable =\n",
              "          await google.colab.kernel.invokeFunction('convertToInteractive',\n",
              "                                                    [key], {});\n",
              "        if (!dataTable) return;\n",
              "\n",
              "        const docLinkHtml = 'Like what you see? Visit the ' +\n",
              "          '<a target=\"_blank\" href=https://colab.research.google.com/notebooks/data_table.ipynb>data table notebook</a>'\n",
              "          + ' to learn more about interactive tables.';\n",
              "        element.innerHTML = '';\n",
              "        dataTable['output_type'] = 'display_data';\n",
              "        await google.colab.output.renderOutput(dataTable, element);\n",
              "        const docLink = document.createElement('div');\n",
              "        docLink.innerHTML = docLinkHtml;\n",
              "        element.appendChild(docLink);\n",
              "      }\n",
              "    </script>\n",
              "  </div>\n",
              "\n",
              "\n",
              "<div id=\"df-6b50e33a-4efe-4df5-a5fa-428a45b6114e\">\n",
              "  <button class=\"colab-df-quickchart\" onclick=\"quickchart('df-6b50e33a-4efe-4df5-a5fa-428a45b6114e')\"\n",
              "            title=\"Suggest charts\"\n",
              "            style=\"display:none;\">\n",
              "\n",
              "<svg xmlns=\"http://www.w3.org/2000/svg\" height=\"24px\"viewBox=\"0 0 24 24\"\n",
              "     width=\"24px\">\n",
              "    <g>\n",
              "        <path d=\"M19 3H5c-1.1 0-2 .9-2 2v14c0 1.1.9 2 2 2h14c1.1 0 2-.9 2-2V5c0-1.1-.9-2-2-2zM9 17H7v-7h2v7zm4 0h-2V7h2v10zm4 0h-2v-4h2v4z\"/>\n",
              "    </g>\n",
              "</svg>\n",
              "  </button>\n",
              "\n",
              "<style>\n",
              "  .colab-df-quickchart {\n",
              "      --bg-color: #E8F0FE;\n",
              "      --fill-color: #1967D2;\n",
              "      --hover-bg-color: #E2EBFA;\n",
              "      --hover-fill-color: #174EA6;\n",
              "      --disabled-fill-color: #AAA;\n",
              "      --disabled-bg-color: #DDD;\n",
              "  }\n",
              "\n",
              "  [theme=dark] .colab-df-quickchart {\n",
              "      --bg-color: #3B4455;\n",
              "      --fill-color: #D2E3FC;\n",
              "      --hover-bg-color: #434B5C;\n",
              "      --hover-fill-color: #FFFFFF;\n",
              "      --disabled-bg-color: #3B4455;\n",
              "      --disabled-fill-color: #666;\n",
              "  }\n",
              "\n",
              "  .colab-df-quickchart {\n",
              "    background-color: var(--bg-color);\n",
              "    border: none;\n",
              "    border-radius: 50%;\n",
              "    cursor: pointer;\n",
              "    display: none;\n",
              "    fill: var(--fill-color);\n",
              "    height: 32px;\n",
              "    padding: 0;\n",
              "    width: 32px;\n",
              "  }\n",
              "\n",
              "  .colab-df-quickchart:hover {\n",
              "    background-color: var(--hover-bg-color);\n",
              "    box-shadow: 0 1px 2px rgba(60, 64, 67, 0.3), 0 1px 3px 1px rgba(60, 64, 67, 0.15);\n",
              "    fill: var(--button-hover-fill-color);\n",
              "  }\n",
              "\n",
              "  .colab-df-quickchart-complete:disabled,\n",
              "  .colab-df-quickchart-complete:disabled:hover {\n",
              "    background-color: var(--disabled-bg-color);\n",
              "    fill: var(--disabled-fill-color);\n",
              "    box-shadow: none;\n",
              "  }\n",
              "\n",
              "  .colab-df-spinner {\n",
              "    border: 2px solid var(--fill-color);\n",
              "    border-color: transparent;\n",
              "    border-bottom-color: var(--fill-color);\n",
              "    animation:\n",
              "      spin 1s steps(1) infinite;\n",
              "  }\n",
              "\n",
              "  @keyframes spin {\n",
              "    0% {\n",
              "      border-color: transparent;\n",
              "      border-bottom-color: var(--fill-color);\n",
              "      border-left-color: var(--fill-color);\n",
              "    }\n",
              "    20% {\n",
              "      border-color: transparent;\n",
              "      border-left-color: var(--fill-color);\n",
              "      border-top-color: var(--fill-color);\n",
              "    }\n",
              "    30% {\n",
              "      border-color: transparent;\n",
              "      border-left-color: var(--fill-color);\n",
              "      border-top-color: var(--fill-color);\n",
              "      border-right-color: var(--fill-color);\n",
              "    }\n",
              "    40% {\n",
              "      border-color: transparent;\n",
              "      border-right-color: var(--fill-color);\n",
              "      border-top-color: var(--fill-color);\n",
              "    }\n",
              "    60% {\n",
              "      border-color: transparent;\n",
              "      border-right-color: var(--fill-color);\n",
              "    }\n",
              "    80% {\n",
              "      border-color: transparent;\n",
              "      border-right-color: var(--fill-color);\n",
              "      border-bottom-color: var(--fill-color);\n",
              "    }\n",
              "    90% {\n",
              "      border-color: transparent;\n",
              "      border-bottom-color: var(--fill-color);\n",
              "    }\n",
              "  }\n",
              "</style>\n",
              "\n",
              "  <script>\n",
              "    async function quickchart(key) {\n",
              "      const quickchartButtonEl =\n",
              "        document.querySelector('#' + key + ' button');\n",
              "      quickchartButtonEl.disabled = true;  // To prevent multiple clicks.\n",
              "      quickchartButtonEl.classList.add('colab-df-spinner');\n",
              "      try {\n",
              "        const charts = await google.colab.kernel.invokeFunction(\n",
              "            'suggestCharts', [key], {});\n",
              "      } catch (error) {\n",
              "        console.error('Error during call to suggestCharts:', error);\n",
              "      }\n",
              "      quickchartButtonEl.classList.remove('colab-df-spinner');\n",
              "      quickchartButtonEl.classList.add('colab-df-quickchart-complete');\n",
              "    }\n",
              "    (() => {\n",
              "      let quickchartButtonEl =\n",
              "        document.querySelector('#df-6b50e33a-4efe-4df5-a5fa-428a45b6114e button');\n",
              "      quickchartButtonEl.style.display =\n",
              "        google.colab.kernel.accessAllowed ? 'block' : 'none';\n",
              "    })();\n",
              "  </script>\n",
              "</div>\n",
              "\n",
              "  <div id=\"id_846d1a6d-bfee-425f-876a-02130816de73\">\n",
              "    <style>\n",
              "      .colab-df-generate {\n",
              "        background-color: #E8F0FE;\n",
              "        border: none;\n",
              "        border-radius: 50%;\n",
              "        cursor: pointer;\n",
              "        display: none;\n",
              "        fill: #1967D2;\n",
              "        height: 32px;\n",
              "        padding: 0 0 0 0;\n",
              "        width: 32px;\n",
              "      }\n",
              "\n",
              "      .colab-df-generate:hover {\n",
              "        background-color: #E2EBFA;\n",
              "        box-shadow: 0px 1px 2px rgba(60, 64, 67, 0.3), 0px 1px 3px 1px rgba(60, 64, 67, 0.15);\n",
              "        fill: #174EA6;\n",
              "      }\n",
              "\n",
              "      [theme=dark] .colab-df-generate {\n",
              "        background-color: #3B4455;\n",
              "        fill: #D2E3FC;\n",
              "      }\n",
              "\n",
              "      [theme=dark] .colab-df-generate:hover {\n",
              "        background-color: #434B5C;\n",
              "        box-shadow: 0px 1px 3px 1px rgba(0, 0, 0, 0.15);\n",
              "        filter: drop-shadow(0px 1px 2px rgba(0, 0, 0, 0.3));\n",
              "        fill: #FFFFFF;\n",
              "      }\n",
              "    </style>\n",
              "    <button class=\"colab-df-generate\" onclick=\"generateWithVariable('submission')\"\n",
              "            title=\"Generate code using this dataframe.\"\n",
              "            style=\"display:none;\">\n",
              "\n",
              "  <svg xmlns=\"http://www.w3.org/2000/svg\" height=\"24px\"viewBox=\"0 0 24 24\"\n",
              "       width=\"24px\">\n",
              "    <path d=\"M7,19H8.4L18.45,9,17,7.55,7,17.6ZM5,21V16.75L18.45,3.32a2,2,0,0,1,2.83,0l1.4,1.43a1.91,1.91,0,0,1,.58,1.4,1.91,1.91,0,0,1-.58,1.4L9.25,21ZM18.45,9,17,7.55Zm-12,3A5.31,5.31,0,0,0,4.9,8.1,5.31,5.31,0,0,0,1,6.5,5.31,5.31,0,0,0,4.9,4.9,5.31,5.31,0,0,0,6.5,1,5.31,5.31,0,0,0,8.1,4.9,5.31,5.31,0,0,0,12,6.5,5.46,5.46,0,0,0,6.5,12Z\"/>\n",
              "  </svg>\n",
              "    </button>\n",
              "    <script>\n",
              "      (() => {\n",
              "      const buttonEl =\n",
              "        document.querySelector('#id_846d1a6d-bfee-425f-876a-02130816de73 button.colab-df-generate');\n",
              "      buttonEl.style.display =\n",
              "        google.colab.kernel.accessAllowed ? 'block' : 'none';\n",
              "\n",
              "      buttonEl.onclick = () => {\n",
              "        google.colab.notebook.generateWithVariable('submission');\n",
              "      }\n",
              "      })();\n",
              "    </script>\n",
              "  </div>\n",
              "\n",
              "    </div>\n",
              "  </div>\n"
            ],
            "application/vnd.google.colaboratory.intrinsic+json": {
              "type": "dataframe",
              "variable_name": "submission",
              "summary": "{\n  \"name\": \"submission\",\n  \"rows\": 418,\n  \"fields\": [\n    {\n      \"column\": \"PassengerId\",\n      \"properties\": {\n        \"dtype\": \"number\",\n        \"std\": 120,\n        \"min\": 892,\n        \"max\": 1309,\n        \"num_unique_values\": 418,\n        \"samples\": [\n          1213,\n          1216,\n          1280\n        ],\n        \"semantic_type\": \"\",\n        \"description\": \"\"\n      }\n    },\n    {\n      \"column\": \"Perished\",\n      \"properties\": {\n        \"dtype\": \"number\",\n        \"std\": 0,\n        \"min\": 0,\n        \"max\": 1,\n        \"num_unique_values\": 2,\n        \"samples\": [\n          0,\n          1\n        ],\n        \"semantic_type\": \"\",\n        \"description\": \"\"\n      }\n    }\n  ]\n}"
            }
          },
          "metadata": {},
          "execution_count": 168
        }
      ]
    },
    {
      "cell_type": "markdown",
      "metadata": {
        "id": "HxR-__pYtBDX"
      },
      "source": [
        "　提出ファイルを作成するには、このデータフレームのPerishedを上書きするのが手っ取り早いでしょう。"
      ]
    },
    {
      "cell_type": "code",
      "metadata": {
        "id": "xgleuw0xtBDY",
        "colab": {
          "base_uri": "https://localhost:8080/"
        },
        "outputId": "f293463b-60ee-4f7b-fe30-97ca5e826d4b"
      },
      "source": [
        "pred.shape"
      ],
      "execution_count": 169,
      "outputs": [
        {
          "output_type": "execute_result",
          "data": {
            "text/plain": [
              "(418,)"
            ]
          },
          "metadata": {},
          "execution_count": 169
        }
      ]
    },
    {
      "cell_type": "code",
      "metadata": {
        "id": "vuGV7Z_etBDa",
        "colab": {
          "base_uri": "https://localhost:8080/",
          "height": 676
        },
        "outputId": "ae2118ed-9980-4339-bd01-848124a17d33"
      },
      "source": [
        "if path ==  \"/content/drive/My Drive/松尾研/GCI/コンペ１/\":\n",
        "    submission[\"Perished\"] = pred\n",
        "else:\n",
        "    submission[\"Survived\"] = pred\n",
        "\n",
        "print(submission)\n",
        "#  もしkaggleに提出する場合は以下のコードを実行す\n",
        "# submission.rename(columns={'Perished': 'Survived'}, inplace=True)\n",
        "submission"
      ],
      "execution_count": 170,
      "outputs": [
        {
          "output_type": "stream",
          "name": "stdout",
          "text": [
            "     PassengerId  Perished\n",
            "0            892         1\n",
            "1            893         1\n",
            "2            894         1\n",
            "3            895         1\n",
            "4            896         1\n",
            "..           ...       ...\n",
            "413         1305         1\n",
            "414         1306         0\n",
            "415         1307         1\n",
            "416         1308         1\n",
            "417         1309         1\n",
            "\n",
            "[418 rows x 2 columns]\n"
          ]
        },
        {
          "output_type": "execute_result",
          "data": {
            "text/plain": [
              "     PassengerId  Perished\n",
              "0            892         1\n",
              "1            893         1\n",
              "2            894         1\n",
              "3            895         1\n",
              "4            896         1\n",
              "..           ...       ...\n",
              "413         1305         1\n",
              "414         1306         0\n",
              "415         1307         1\n",
              "416         1308         1\n",
              "417         1309         1\n",
              "\n",
              "[418 rows x 2 columns]"
            ],
            "text/html": [
              "\n",
              "  <div id=\"df-56b689a4-a897-4f16-84a5-dca07b77a2eb\" class=\"colab-df-container\">\n",
              "    <div>\n",
              "<style scoped>\n",
              "    .dataframe tbody tr th:only-of-type {\n",
              "        vertical-align: middle;\n",
              "    }\n",
              "\n",
              "    .dataframe tbody tr th {\n",
              "        vertical-align: top;\n",
              "    }\n",
              "\n",
              "    .dataframe thead th {\n",
              "        text-align: right;\n",
              "    }\n",
              "</style>\n",
              "<table border=\"1\" class=\"dataframe\">\n",
              "  <thead>\n",
              "    <tr style=\"text-align: right;\">\n",
              "      <th></th>\n",
              "      <th>PassengerId</th>\n",
              "      <th>Perished</th>\n",
              "    </tr>\n",
              "  </thead>\n",
              "  <tbody>\n",
              "    <tr>\n",
              "      <th>0</th>\n",
              "      <td>892</td>\n",
              "      <td>1</td>\n",
              "    </tr>\n",
              "    <tr>\n",
              "      <th>1</th>\n",
              "      <td>893</td>\n",
              "      <td>1</td>\n",
              "    </tr>\n",
              "    <tr>\n",
              "      <th>2</th>\n",
              "      <td>894</td>\n",
              "      <td>1</td>\n",
              "    </tr>\n",
              "    <tr>\n",
              "      <th>3</th>\n",
              "      <td>895</td>\n",
              "      <td>1</td>\n",
              "    </tr>\n",
              "    <tr>\n",
              "      <th>4</th>\n",
              "      <td>896</td>\n",
              "      <td>1</td>\n",
              "    </tr>\n",
              "    <tr>\n",
              "      <th>...</th>\n",
              "      <td>...</td>\n",
              "      <td>...</td>\n",
              "    </tr>\n",
              "    <tr>\n",
              "      <th>413</th>\n",
              "      <td>1305</td>\n",
              "      <td>1</td>\n",
              "    </tr>\n",
              "    <tr>\n",
              "      <th>414</th>\n",
              "      <td>1306</td>\n",
              "      <td>0</td>\n",
              "    </tr>\n",
              "    <tr>\n",
              "      <th>415</th>\n",
              "      <td>1307</td>\n",
              "      <td>1</td>\n",
              "    </tr>\n",
              "    <tr>\n",
              "      <th>416</th>\n",
              "      <td>1308</td>\n",
              "      <td>1</td>\n",
              "    </tr>\n",
              "    <tr>\n",
              "      <th>417</th>\n",
              "      <td>1309</td>\n",
              "      <td>1</td>\n",
              "    </tr>\n",
              "  </tbody>\n",
              "</table>\n",
              "<p>418 rows × 2 columns</p>\n",
              "</div>\n",
              "    <div class=\"colab-df-buttons\">\n",
              "\n",
              "  <div class=\"colab-df-container\">\n",
              "    <button class=\"colab-df-convert\" onclick=\"convertToInteractive('df-56b689a4-a897-4f16-84a5-dca07b77a2eb')\"\n",
              "            title=\"Convert this dataframe to an interactive table.\"\n",
              "            style=\"display:none;\">\n",
              "\n",
              "  <svg xmlns=\"http://www.w3.org/2000/svg\" height=\"24px\" viewBox=\"0 -960 960 960\">\n",
              "    <path d=\"M120-120v-720h720v720H120Zm60-500h600v-160H180v160Zm220 220h160v-160H400v160Zm0 220h160v-160H400v160ZM180-400h160v-160H180v160Zm440 0h160v-160H620v160ZM180-180h160v-160H180v160Zm440 0h160v-160H620v160Z\"/>\n",
              "  </svg>\n",
              "    </button>\n",
              "\n",
              "  <style>\n",
              "    .colab-df-container {\n",
              "      display:flex;\n",
              "      gap: 12px;\n",
              "    }\n",
              "\n",
              "    .colab-df-convert {\n",
              "      background-color: #E8F0FE;\n",
              "      border: none;\n",
              "      border-radius: 50%;\n",
              "      cursor: pointer;\n",
              "      display: none;\n",
              "      fill: #1967D2;\n",
              "      height: 32px;\n",
              "      padding: 0 0 0 0;\n",
              "      width: 32px;\n",
              "    }\n",
              "\n",
              "    .colab-df-convert:hover {\n",
              "      background-color: #E2EBFA;\n",
              "      box-shadow: 0px 1px 2px rgba(60, 64, 67, 0.3), 0px 1px 3px 1px rgba(60, 64, 67, 0.15);\n",
              "      fill: #174EA6;\n",
              "    }\n",
              "\n",
              "    .colab-df-buttons div {\n",
              "      margin-bottom: 4px;\n",
              "    }\n",
              "\n",
              "    [theme=dark] .colab-df-convert {\n",
              "      background-color: #3B4455;\n",
              "      fill: #D2E3FC;\n",
              "    }\n",
              "\n",
              "    [theme=dark] .colab-df-convert:hover {\n",
              "      background-color: #434B5C;\n",
              "      box-shadow: 0px 1px 3px 1px rgba(0, 0, 0, 0.15);\n",
              "      filter: drop-shadow(0px 1px 2px rgba(0, 0, 0, 0.3));\n",
              "      fill: #FFFFFF;\n",
              "    }\n",
              "  </style>\n",
              "\n",
              "    <script>\n",
              "      const buttonEl =\n",
              "        document.querySelector('#df-56b689a4-a897-4f16-84a5-dca07b77a2eb button.colab-df-convert');\n",
              "      buttonEl.style.display =\n",
              "        google.colab.kernel.accessAllowed ? 'block' : 'none';\n",
              "\n",
              "      async function convertToInteractive(key) {\n",
              "        const element = document.querySelector('#df-56b689a4-a897-4f16-84a5-dca07b77a2eb');\n",
              "        const dataTable =\n",
              "          await google.colab.kernel.invokeFunction('convertToInteractive',\n",
              "                                                    [key], {});\n",
              "        if (!dataTable) return;\n",
              "\n",
              "        const docLinkHtml = 'Like what you see? Visit the ' +\n",
              "          '<a target=\"_blank\" href=https://colab.research.google.com/notebooks/data_table.ipynb>data table notebook</a>'\n",
              "          + ' to learn more about interactive tables.';\n",
              "        element.innerHTML = '';\n",
              "        dataTable['output_type'] = 'display_data';\n",
              "        await google.colab.output.renderOutput(dataTable, element);\n",
              "        const docLink = document.createElement('div');\n",
              "        docLink.innerHTML = docLinkHtml;\n",
              "        element.appendChild(docLink);\n",
              "      }\n",
              "    </script>\n",
              "  </div>\n",
              "\n",
              "\n",
              "<div id=\"df-acfbbce4-f5dd-41d2-8d2f-56d3008175f5\">\n",
              "  <button class=\"colab-df-quickchart\" onclick=\"quickchart('df-acfbbce4-f5dd-41d2-8d2f-56d3008175f5')\"\n",
              "            title=\"Suggest charts\"\n",
              "            style=\"display:none;\">\n",
              "\n",
              "<svg xmlns=\"http://www.w3.org/2000/svg\" height=\"24px\"viewBox=\"0 0 24 24\"\n",
              "     width=\"24px\">\n",
              "    <g>\n",
              "        <path d=\"M19 3H5c-1.1 0-2 .9-2 2v14c0 1.1.9 2 2 2h14c1.1 0 2-.9 2-2V5c0-1.1-.9-2-2-2zM9 17H7v-7h2v7zm4 0h-2V7h2v10zm4 0h-2v-4h2v4z\"/>\n",
              "    </g>\n",
              "</svg>\n",
              "  </button>\n",
              "\n",
              "<style>\n",
              "  .colab-df-quickchart {\n",
              "      --bg-color: #E8F0FE;\n",
              "      --fill-color: #1967D2;\n",
              "      --hover-bg-color: #E2EBFA;\n",
              "      --hover-fill-color: #174EA6;\n",
              "      --disabled-fill-color: #AAA;\n",
              "      --disabled-bg-color: #DDD;\n",
              "  }\n",
              "\n",
              "  [theme=dark] .colab-df-quickchart {\n",
              "      --bg-color: #3B4455;\n",
              "      --fill-color: #D2E3FC;\n",
              "      --hover-bg-color: #434B5C;\n",
              "      --hover-fill-color: #FFFFFF;\n",
              "      --disabled-bg-color: #3B4455;\n",
              "      --disabled-fill-color: #666;\n",
              "  }\n",
              "\n",
              "  .colab-df-quickchart {\n",
              "    background-color: var(--bg-color);\n",
              "    border: none;\n",
              "    border-radius: 50%;\n",
              "    cursor: pointer;\n",
              "    display: none;\n",
              "    fill: var(--fill-color);\n",
              "    height: 32px;\n",
              "    padding: 0;\n",
              "    width: 32px;\n",
              "  }\n",
              "\n",
              "  .colab-df-quickchart:hover {\n",
              "    background-color: var(--hover-bg-color);\n",
              "    box-shadow: 0 1px 2px rgba(60, 64, 67, 0.3), 0 1px 3px 1px rgba(60, 64, 67, 0.15);\n",
              "    fill: var(--button-hover-fill-color);\n",
              "  }\n",
              "\n",
              "  .colab-df-quickchart-complete:disabled,\n",
              "  .colab-df-quickchart-complete:disabled:hover {\n",
              "    background-color: var(--disabled-bg-color);\n",
              "    fill: var(--disabled-fill-color);\n",
              "    box-shadow: none;\n",
              "  }\n",
              "\n",
              "  .colab-df-spinner {\n",
              "    border: 2px solid var(--fill-color);\n",
              "    border-color: transparent;\n",
              "    border-bottom-color: var(--fill-color);\n",
              "    animation:\n",
              "      spin 1s steps(1) infinite;\n",
              "  }\n",
              "\n",
              "  @keyframes spin {\n",
              "    0% {\n",
              "      border-color: transparent;\n",
              "      border-bottom-color: var(--fill-color);\n",
              "      border-left-color: var(--fill-color);\n",
              "    }\n",
              "    20% {\n",
              "      border-color: transparent;\n",
              "      border-left-color: var(--fill-color);\n",
              "      border-top-color: var(--fill-color);\n",
              "    }\n",
              "    30% {\n",
              "      border-color: transparent;\n",
              "      border-left-color: var(--fill-color);\n",
              "      border-top-color: var(--fill-color);\n",
              "      border-right-color: var(--fill-color);\n",
              "    }\n",
              "    40% {\n",
              "      border-color: transparent;\n",
              "      border-right-color: var(--fill-color);\n",
              "      border-top-color: var(--fill-color);\n",
              "    }\n",
              "    60% {\n",
              "      border-color: transparent;\n",
              "      border-right-color: var(--fill-color);\n",
              "    }\n",
              "    80% {\n",
              "      border-color: transparent;\n",
              "      border-right-color: var(--fill-color);\n",
              "      border-bottom-color: var(--fill-color);\n",
              "    }\n",
              "    90% {\n",
              "      border-color: transparent;\n",
              "      border-bottom-color: var(--fill-color);\n",
              "    }\n",
              "  }\n",
              "</style>\n",
              "\n",
              "  <script>\n",
              "    async function quickchart(key) {\n",
              "      const quickchartButtonEl =\n",
              "        document.querySelector('#' + key + ' button');\n",
              "      quickchartButtonEl.disabled = true;  // To prevent multiple clicks.\n",
              "      quickchartButtonEl.classList.add('colab-df-spinner');\n",
              "      try {\n",
              "        const charts = await google.colab.kernel.invokeFunction(\n",
              "            'suggestCharts', [key], {});\n",
              "      } catch (error) {\n",
              "        console.error('Error during call to suggestCharts:', error);\n",
              "      }\n",
              "      quickchartButtonEl.classList.remove('colab-df-spinner');\n",
              "      quickchartButtonEl.classList.add('colab-df-quickchart-complete');\n",
              "    }\n",
              "    (() => {\n",
              "      let quickchartButtonEl =\n",
              "        document.querySelector('#df-acfbbce4-f5dd-41d2-8d2f-56d3008175f5 button');\n",
              "      quickchartButtonEl.style.display =\n",
              "        google.colab.kernel.accessAllowed ? 'block' : 'none';\n",
              "    })();\n",
              "  </script>\n",
              "</div>\n",
              "\n",
              "  <div id=\"id_a856dd0f-dde3-498d-a900-60a4f436ca1c\">\n",
              "    <style>\n",
              "      .colab-df-generate {\n",
              "        background-color: #E8F0FE;\n",
              "        border: none;\n",
              "        border-radius: 50%;\n",
              "        cursor: pointer;\n",
              "        display: none;\n",
              "        fill: #1967D2;\n",
              "        height: 32px;\n",
              "        padding: 0 0 0 0;\n",
              "        width: 32px;\n",
              "      }\n",
              "\n",
              "      .colab-df-generate:hover {\n",
              "        background-color: #E2EBFA;\n",
              "        box-shadow: 0px 1px 2px rgba(60, 64, 67, 0.3), 0px 1px 3px 1px rgba(60, 64, 67, 0.15);\n",
              "        fill: #174EA6;\n",
              "      }\n",
              "\n",
              "      [theme=dark] .colab-df-generate {\n",
              "        background-color: #3B4455;\n",
              "        fill: #D2E3FC;\n",
              "      }\n",
              "\n",
              "      [theme=dark] .colab-df-generate:hover {\n",
              "        background-color: #434B5C;\n",
              "        box-shadow: 0px 1px 3px 1px rgba(0, 0, 0, 0.15);\n",
              "        filter: drop-shadow(0px 1px 2px rgba(0, 0, 0, 0.3));\n",
              "        fill: #FFFFFF;\n",
              "      }\n",
              "    </style>\n",
              "    <button class=\"colab-df-generate\" onclick=\"generateWithVariable('submission')\"\n",
              "            title=\"Generate code using this dataframe.\"\n",
              "            style=\"display:none;\">\n",
              "\n",
              "  <svg xmlns=\"http://www.w3.org/2000/svg\" height=\"24px\"viewBox=\"0 0 24 24\"\n",
              "       width=\"24px\">\n",
              "    <path d=\"M7,19H8.4L18.45,9,17,7.55,7,17.6ZM5,21V16.75L18.45,3.32a2,2,0,0,1,2.83,0l1.4,1.43a1.91,1.91,0,0,1,.58,1.4,1.91,1.91,0,0,1-.58,1.4L9.25,21ZM18.45,9,17,7.55Zm-12,3A5.31,5.31,0,0,0,4.9,8.1,5.31,5.31,0,0,0,1,6.5,5.31,5.31,0,0,0,4.9,4.9,5.31,5.31,0,0,0,6.5,1,5.31,5.31,0,0,0,8.1,4.9,5.31,5.31,0,0,0,12,6.5,5.46,5.46,0,0,0,6.5,12Z\"/>\n",
              "  </svg>\n",
              "    </button>\n",
              "    <script>\n",
              "      (() => {\n",
              "      const buttonEl =\n",
              "        document.querySelector('#id_a856dd0f-dde3-498d-a900-60a4f436ca1c button.colab-df-generate');\n",
              "      buttonEl.style.display =\n",
              "        google.colab.kernel.accessAllowed ? 'block' : 'none';\n",
              "\n",
              "      buttonEl.onclick = () => {\n",
              "        google.colab.notebook.generateWithVariable('submission');\n",
              "      }\n",
              "      })();\n",
              "    </script>\n",
              "  </div>\n",
              "\n",
              "    </div>\n",
              "  </div>\n"
            ],
            "application/vnd.google.colaboratory.intrinsic+json": {
              "type": "dataframe",
              "variable_name": "submission",
              "summary": "{\n  \"name\": \"submission\",\n  \"rows\": 418,\n  \"fields\": [\n    {\n      \"column\": \"PassengerId\",\n      \"properties\": {\n        \"dtype\": \"number\",\n        \"std\": 120,\n        \"min\": 892,\n        \"max\": 1309,\n        \"num_unique_values\": 418,\n        \"samples\": [\n          1213,\n          1216,\n          1280\n        ],\n        \"semantic_type\": \"\",\n        \"description\": \"\"\n      }\n    },\n    {\n      \"column\": \"Perished\",\n      \"properties\": {\n        \"dtype\": \"number\",\n        \"std\": 0,\n        \"min\": 0,\n        \"max\": 1,\n        \"num_unique_values\": 2,\n        \"samples\": [\n          0,\n          1\n        ],\n        \"semantic_type\": \"\",\n        \"description\": \"\"\n      }\n    }\n  ]\n}"
            }
          },
          "metadata": {},
          "execution_count": 170
        }
      ]
    },
    {
      "cell_type": "markdown",
      "metadata": {
        "id": "qnqEpdxYtBDd"
      },
      "source": [
        "　これをcsvファイルとして出力すれば、提出ファイルの完成です。\\\n",
        "※csvファイル書き出しの方法は自身の作業場所によって変わります。自分の環境に合わせたコード片方を選択してください。両方または自分の環境外のコードを選択するとエラーが起こります。このnotebookをコピーして用いる場合は下のセルをそのまま実行してください。"
      ]
    },
    {
      "cell_type": "code",
      "metadata": {
        "id": "hzwgMB1XtBDd"
      },
      "source": [
        "# JupyterLabなどローカルで作業する場合\n",
        "# パスは必要に応じて変更の必要あ\n",
        "# submission.to_csv('/content/drive/My Drive/Colab Notebooks/GCI_2024_winter/Competitions/competition_1/submission.csv', index=False)"
      ],
      "execution_count": 171,
      "outputs": []
    },
    {
      "cell_type": "code",
      "source": [
        "# sns.countplot(x=\"Survived\", data=submission)\n",
        "# plt.title('Number of Passengers Boarded')\n",
        "# plt.show()"
      ],
      "metadata": {
        "id": "yhq6fV2O5vTp"
      },
      "execution_count": 173,
      "outputs": []
    },
    {
      "cell_type": "code",
      "metadata": {
        "id": "ZRmPpX0GJ9jg",
        "colab": {
          "base_uri": "https://localhost:8080/"
        },
        "outputId": "32a64eb1-a95f-4dde-899d-b0262f442306"
      },
      "source": [
        "# Google Drive・Google Colaboratoryで作業する場\n",
        "\n",
        "if submission.columns[1] == 'Survived':\n",
        "    submission.to_csv('submission_to_kaggle_titanic.csv', index=False)\n",
        "    path = \"/content/drive/My Drive/松尾研/GCI/コンペ１/\"\n",
        "    correct = pd.read_csv(path + 'correct.csv')\n",
        "    ans = 0\n",
        "    for i in range(len(correct)):\n",
        "      if correct['Survived'][i] == submission['Survived'][i]:\n",
        "            ans += 1\n",
        "    print(f\"あなたの正解率は{ans/len(correct)}です\")\n",
        "else:\n",
        "    faile_name = \"22.csv\"\n",
        "    submission.to_csv(faile_name,index=False)\n",
        "    print(submission)\n",
        "    print(f\"{faile_name}をOmnicampusに提出してください\")\n",
        "\n",
        "# from google.colab import files\n",
        "# files.download('submission.csv')"
      ],
      "execution_count": 175,
      "outputs": [
        {
          "output_type": "stream",
          "name": "stdout",
          "text": [
            "     PassengerId  Perished\n",
            "0            892         1\n",
            "1            893         1\n",
            "2            894         1\n",
            "3            895         1\n",
            "4            896         1\n",
            "..           ...       ...\n",
            "413         1305         1\n",
            "414         1306         0\n",
            "415         1307         1\n",
            "416         1308         1\n",
            "417         1309         1\n",
            "\n",
            "[418 rows x 2 columns]\n",
            "22.csvをOmnicampusに提出してください\n"
          ]
        }
      ]
    },
    {
      "cell_type": "markdown",
      "metadata": {
        "id": "Y2ObKvbltBDo"
      },
      "source": [
        "　この提出ファイルをOmnicampus上で提出してみましょう。本デモンストレーションはこれにて以上です。入門者の方もこのデモンストレーションをベースとするなどし、自分の工夫を一つでも多く加えてみて、スコアと順位の向上を目指してみてください。"
      ]
    },
    {
      "cell_type": "code",
      "source": [],
      "metadata": {
        "id": "0M__U9VdHosV"
      },
      "execution_count": null,
      "outputs": []
    },
    {
      "cell_type": "markdown",
      "source": [
        "#  以下参考にしたサイト一覧\n",
        "\n",
        "kncの実装：https://qiita.com/kwi0303/items/98d5455db06e82bc7a6d\n"
      ],
      "metadata": {
        "id": "_4AtTpM93bXS"
      }
    },
    {
      "cell_type": "code",
      "source": [],
      "metadata": {
        "id": "WuAwAKCr38UO"
      },
      "execution_count": null,
      "outputs": []
    }
  ]
}